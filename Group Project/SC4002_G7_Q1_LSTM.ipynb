{
  "nbformat": 4,
  "nbformat_minor": 0,
  "metadata": {
    "colab": {
      "provenance": [],
      "collapsed_sections": [
        "lpTxz0nqrO15",
        "Q-nu-XC0p8Ou",
        "oxvs3gqoqwiy",
        "5YLMWNaw4S-2"
      ],
      "machine_shape": "hm",
      "gpuType": "V100"
    },
    "kernelspec": {
      "name": "python3",
      "display_name": "Python 3"
    },
    "language_info": {
      "name": "python"
    },
    "accelerator": "GPU"
  },
  "cells": [
    {
      "cell_type": "markdown",
      "source": [
        "# Import requirements"
      ],
      "metadata": {
        "id": "lpTxz0nqrO15"
      }
    },
    {
      "cell_type": "code",
      "source": [
        "!pip install --upgrade gensim\n",
        "!pip install seqeval"
      ],
      "metadata": {
        "colab": {
          "base_uri": "https://localhost:8080/"
        },
        "id": "uCOXYWvrVtH_",
        "outputId": "6cd01e52-7d58-469f-8dba-eec35b2ee5a2"
      },
      "execution_count": null,
      "outputs": [
        {
          "output_type": "stream",
          "name": "stdout",
          "text": [
            "Requirement already satisfied: gensim in /usr/local/lib/python3.10/dist-packages (4.3.2)\n",
            "Requirement already satisfied: numpy>=1.18.5 in /usr/local/lib/python3.10/dist-packages (from gensim) (1.23.5)\n",
            "Requirement already satisfied: scipy>=1.7.0 in /usr/local/lib/python3.10/dist-packages (from gensim) (1.11.3)\n",
            "Requirement already satisfied: smart-open>=1.8.1 in /usr/local/lib/python3.10/dist-packages (from gensim) (6.4.0)\n",
            "Collecting seqeval\n",
            "  Downloading seqeval-1.2.2.tar.gz (43 kB)\n",
            "\u001b[2K     \u001b[90m━━━━━━━━━━━━━━━━━━━━━━━━━━━━━━━━━━━━━━━━\u001b[0m \u001b[32m43.6/43.6 kB\u001b[0m \u001b[31m1.6 MB/s\u001b[0m eta \u001b[36m0:00:00\u001b[0m\n",
            "\u001b[?25h  Preparing metadata (setup.py) ... \u001b[?25l\u001b[?25hdone\n",
            "Requirement already satisfied: numpy>=1.14.0 in /usr/local/lib/python3.10/dist-packages (from seqeval) (1.23.5)\n",
            "Requirement already satisfied: scikit-learn>=0.21.3 in /usr/local/lib/python3.10/dist-packages (from seqeval) (1.2.2)\n",
            "Requirement already satisfied: scipy>=1.3.2 in /usr/local/lib/python3.10/dist-packages (from scikit-learn>=0.21.3->seqeval) (1.11.3)\n",
            "Requirement already satisfied: joblib>=1.1.1 in /usr/local/lib/python3.10/dist-packages (from scikit-learn>=0.21.3->seqeval) (1.3.2)\n",
            "Requirement already satisfied: threadpoolctl>=2.0.0 in /usr/local/lib/python3.10/dist-packages (from scikit-learn>=0.21.3->seqeval) (3.2.0)\n",
            "Building wheels for collected packages: seqeval\n",
            "  Building wheel for seqeval (setup.py) ... \u001b[?25l\u001b[?25hdone\n",
            "  Created wheel for seqeval: filename=seqeval-1.2.2-py3-none-any.whl size=16162 sha256=28bce0214af380a8b4ddc40add0093d0c183cfe39f79414bb6c75e78f747d388\n",
            "  Stored in directory: /root/.cache/pip/wheels/1a/67/4a/ad4082dd7dfc30f2abfe4d80a2ed5926a506eb8a972b4767fa\n",
            "Successfully built seqeval\n",
            "Installing collected packages: seqeval\n",
            "Successfully installed seqeval-1.2.2\n"
          ]
        }
      ]
    },
    {
      "cell_type": "code",
      "execution_count": null,
      "metadata": {
        "id": "_qJUqihAUfIp"
      },
      "outputs": [],
      "source": [
        "import pandas as pd\n",
        "import numpy as np\n",
        "import random\n",
        "import time\n",
        "import gensim.downloader\n",
        "from keras.preprocessing.sequence import pad_sequences\n",
        "from keras.preprocessing.text import Tokenizer\n",
        "from sklearn.model_selection import train_test_split, ParameterGrid\n",
        "from keras.models import Sequential\n",
        "from keras.layers import Embedding, LSTM, TimeDistributed, Dense, Bidirectional\n",
        "from keras.callbacks import LambdaCallback, EarlyStopping, ReduceLROnPlateau\n",
        "from keras.optimizers import Adam, SGD, Adagrad, RMSprop\n",
        "from seqeval.metrics import f1_score\n",
        "import tensorflow as tf\n",
        "\n",
        "np.random.seed(50)\n",
        "tf.random.set_seed(50)"
      ]
    },
    {
      "cell_type": "code",
      "source": [
        "w2v = gensim.downloader.load('word2vec-google-news-300')"
      ],
      "metadata": {
        "id": "ripk654J8YYj",
        "colab": {
          "base_uri": "https://localhost:8080/"
        },
        "outputId": "78a5fbd6-e1b4-417c-c37d-e8d8a3bd43fe"
      },
      "execution_count": null,
      "outputs": [
        {
          "output_type": "stream",
          "name": "stdout",
          "text": [
            "[==================================================] 100.0% 1662.8/1662.8MB downloaded\n"
          ]
        }
      ]
    },
    {
      "cell_type": "markdown",
      "source": [
        "# Question 1.1\n",
        "> **Based on word2vec embeddings you have downloaded, use cosine similarity to find the most similar word to each of these words: (a) “student”; (b) “Apple”; (c) “apple”. Report the most similar word and its cosine similarity.**"
      ],
      "metadata": {
        "id": "Q-nu-XC0p8Ou"
      }
    },
    {
      "cell_type": "markdown",
      "source": [],
      "metadata": {
        "id": "SICNJGmhp8G0"
      }
    },
    {
      "cell_type": "code",
      "source": [
        "words = [\"student\", \"Apple\", \"apple\"]\n",
        "\n",
        "for word in words:\n",
        "    similar_word, cos_similarity = w2v.most_similar(word)[0]  #index 0 gives us the most similar word\n",
        "    print(f\"The most similar word to \\\"{word}\\\" is: \\\"{similar_word}\\\", with a cosine similarity of: {cos_similarity}\")"
      ],
      "metadata": {
        "colab": {
          "base_uri": "https://localhost:8080/"
        },
        "id": "2WylFLS-p7oG",
        "outputId": "630e19f6-0e4b-4fd9-d592-5fb2c1c1d683"
      },
      "execution_count": null,
      "outputs": [
        {
          "output_type": "stream",
          "name": "stdout",
          "text": [
            "The most similar word to \"student\" is: \"students\", with a cosine similarity of: 0.7294867038726807\n",
            "The most similar word to \"Apple\" is: \"Apple_AAPL\", with a cosine similarity of: 0.7456986308097839\n",
            "The most similar word to \"apple\" is: \"apples\", with a cosine similarity of: 0.720359742641449\n"
          ]
        }
      ]
    },
    {
      "cell_type": "markdown",
      "source": [
        "# Question 1.2"
      ],
      "metadata": {
        "id": "I4j-gqADqMKD"
      }
    },
    {
      "cell_type": "markdown",
      "source": [
        "## Preprocessing"
      ],
      "metadata": {
        "id": "oxvs3gqoqwiy"
      }
    },
    {
      "cell_type": "code",
      "source": [
        "def read_data(file_name):\n",
        "  sentences = []\n",
        "  ner_tags_combined = []\n",
        "\n",
        "  temp_words = []\n",
        "  temp_ner_tags = []\n",
        "\n",
        "  with open(file_name, 'r') as f:\n",
        "      for line in f:\n",
        "          tokens = line.strip().split()\n",
        "\n",
        "          if not tokens:\n",
        "              sentences.append(\" \".join(temp_words))\n",
        "              ner_tags_combined.append(\" \".join(temp_ner_tags))\n",
        "\n",
        "              temp_words.clear()\n",
        "              temp_ner_tags.clear()\n",
        "              continue\n",
        "\n",
        "          if tokens[0] == '\"' and tokens[1] == '\"':\n",
        "              temp_words.append('\"')\n",
        "              temp_ner_tags.append(tokens[3])\n",
        "          else:\n",
        "              temp_words.append(tokens[0])\n",
        "              temp_ner_tags.append(tokens[3])\n",
        "\n",
        "  df = pd.DataFrame({\n",
        "      'sentence': sentences,\n",
        "      'NER_tags': ner_tags_combined\n",
        "  })\n",
        "  df['length'] = df['sentence'].apply(lambda x: len(x.split(\" \")))\n",
        "  return df"
      ],
      "metadata": {
        "id": "mMpJJAVvVo8v"
      },
      "execution_count": null,
      "outputs": []
    },
    {
      "cell_type": "code",
      "source": [
        "train = read_data(\"eng.train\")\n",
        "val = read_data(\"eng.testa\")\n",
        "test = read_data(\"eng.testb\")"
      ],
      "metadata": {
        "id": "Rn7aGlyDrI_i"
      },
      "execution_count": null,
      "outputs": []
    },
    {
      "cell_type": "markdown",
      "source": [
        "## Part a)\n",
        "> **Describe the size (number of sentences) of the training, development and test file for CoNLL2003. Specify the complete set of all possible word labels based on the tagging scheme (IO, BIO, etc.) you chose.**"
      ],
      "metadata": {
        "id": "8IXDxeKgrFAX"
      }
    },
    {
      "cell_type": "code",
      "source": [
        "train_size = len(train)\n",
        "val_size = len(val)\n",
        "test_size = len(test)\n",
        "\n",
        "print(f\"Number of sentences in the training set: {train_size}\")\n",
        "print(f\"Number of sentences in the development set: {val_size}\")\n",
        "print(f\"Number of sentences in the test set: {test_size}\")\n",
        "\n",
        "unique_labels_train, unique_labels_val, unique_labels_test, unique_labels_overall = set(), set(), set(), set()\n",
        "\n",
        "def update_unique_labels(df, unique_set):\n",
        "    for label_str in df['NER_tags']:\n",
        "        labels = label_str.split()\n",
        "        unique_set.update(labels)\n",
        "\n",
        "update_unique_labels(train, unique_labels_train)\n",
        "update_unique_labels(val, unique_labels_val)\n",
        "update_unique_labels(test, unique_labels_test)\n",
        "\n",
        "unique_labels_overall.update(unique_labels_train)\n",
        "unique_labels_overall.update(unique_labels_val)\n",
        "unique_labels_overall.update(unique_labels_test)\n",
        "\n",
        "print()\n",
        "print(\"Unique labels in train:\", unique_labels_train)\n",
        "print(\"Unique labels in val:\", unique_labels_val)\n",
        "print(\"Unique labels in test:\", unique_labels_test)\n",
        "print(\"Unique labels overall:\", unique_labels_overall)\n"
      ],
      "metadata": {
        "colab": {
          "base_uri": "https://localhost:8080/"
        },
        "id": "wA9_PogTrIyO",
        "outputId": "f9682ea7-f2ee-4ff5-d31c-afceaf7c6b21"
      },
      "execution_count": null,
      "outputs": [
        {
          "output_type": "stream",
          "name": "stdout",
          "text": [
            "Number of sentences in the training set: 14986\n",
            "Number of sentences in the development set: 3465\n",
            "Number of sentences in the test set: 3683\n",
            "\n",
            "Unique labels in train: {'B-MISC', 'I-MISC', 'I-PER', 'I-LOC', 'B-ORG', 'B-LOC', 'O', 'I-ORG'}\n",
            "Unique labels in val: {'B-MISC', 'I-MISC', 'I-PER', 'I-LOC', 'O', 'I-ORG'}\n",
            "Unique labels in test: {'B-MISC', 'I-MISC', 'I-PER', 'I-LOC', 'B-ORG', 'B-LOC', 'O', 'I-ORG'}\n",
            "Unique labels overall: {'B-MISC', 'I-MISC', 'I-PER', 'I-LOC', 'B-ORG', 'B-LOC', 'O', 'I-ORG'}\n"
          ]
        }
      ]
    },
    {
      "cell_type": "markdown",
      "source": [
        "## Part b)\n",
        "> ** Choose an example sentence from the training set of CoNLL2003 that has at least two named entities with more than one word. Explain how to form complete named entities from the label for each word, and list all the named entities in this sentence.**"
      ],
      "metadata": {
        "id": "-sS4_-q0_6fo"
      }
    },
    {
      "cell_type": "code",
      "source": [
        "sentence_str = train.loc[116]['sentence']\n",
        "NER_tags_str = train.loc[116]['NER_tags']\n",
        "\n",
        "word_list = sentence_str.split(\" \")\n",
        "NER_tags_list = NER_tags_str.split(\" \")\n",
        "\n",
        "max_word_length = max(len(word) for word in word_list)\n",
        "\n",
        "for word, tag in zip(word_list, NER_tags_list):\n",
        "    print(f\"{word: <{max_word_length}} {tag}\")"
      ],
      "metadata": {
        "colab": {
          "base_uri": "https://localhost:8080/"
        },
        "id": "4ocxpIK_stgW",
        "outputId": "17a675a3-3d22-4205-d0bc-07250b1e545a"
      },
      "execution_count": null,
      "outputs": [
        {
          "output_type": "stream",
          "name": "stdout",
          "text": [
            "Tension   O\n",
            "has       O\n",
            "mounted   O\n",
            "since     O\n",
            "Israeli   I-MISC\n",
            "Prime     O\n",
            "Minister  O\n",
            "Benjamin  I-PER\n",
            "Netanyahu I-PER\n",
            "took      O\n",
            "office    O\n",
            "in        O\n",
            "June      O\n",
            "vowing    O\n",
            "to        O\n",
            "retain    O\n",
            "the       O\n",
            "Golan     I-LOC\n",
            "Heights   I-LOC\n",
            "Israel    B-LOC\n",
            "captured  O\n",
            "from      O\n",
            "Syria     I-LOC\n",
            "in        O\n",
            "the       O\n",
            "1967      O\n",
            "Middle    I-LOC\n",
            "East      I-LOC\n",
            "war       O\n",
            ".         O\n"
          ]
        }
      ]
    },
    {
      "cell_type": "markdown",
      "source": [
        "*   Israeli is labeled as \"I-MISC\". Since it's not preceded by another \"I-MISC\" or \"B-MISC\", it forms a single-word named entity of type \"MISC\".\n",
        "\n",
        "*   Benjamin Netanyahu is labeled as \"I-PER\" for both words. The successive \"I-PER\" tags tell us to concatenate these words into a single named entity of type \"PER\".\n",
        "\n",
        "*   Golan Heights is labeled as \"I-LOC\" for both words. Like \"Benjamin Netanyahu\", the successive \"I-LOC\" tags mean we should concatenate these into a single named entity of type \"LOC\".\n",
        "\n",
        "*   Israel is labeled as \"B-LOC\", indicating the start of a new named entity of type \"LOC\". Since it's not followed by an \"I-LOC\", it's a single-word named entity.\n",
        "\n",
        "*   Syria is labeled as \"I-LOC\". It's not preceded by another \"I-LOC\" or \"B-LOC\", so it's a single-word named entity of type \"LOC\".\n",
        "\n",
        "*   Middle East is labeled as \"I-LOC\" for both words. The successive \"I-LOC\" tags mean these words form a single named entity of type \"LOC\".\n",
        "\n",
        "Here are the named entities in the example sentence:\n",
        "\n",
        "1.   Israeli (MISC)\n",
        "1.   Benjamin Netanyahu (PER)\n",
        "1.   Golan Heights (LOC)\n",
        "1.   Israel (LOC)\n",
        "1.   Syria (LOC)\n",
        "1.   Middle East (LOC)\n",
        "\n",
        "\n",
        "\n"
      ],
      "metadata": {
        "id": "cwMMULyow8ZS"
      }
    },
    {
      "cell_type": "markdown",
      "source": [
        "# Question 1.3"
      ],
      "metadata": {
        "id": "VH7KVAHd_qVI"
      }
    },
    {
      "cell_type": "markdown",
      "source": [
        "## Preprocessing"
      ],
      "metadata": {
        "id": "Oq8LRlae5mmJ"
      }
    },
    {
      "cell_type": "code",
      "source": [
        "#to find the longest sequence\n",
        "print(\"longest sentence in training:\", max(train['length']))\n",
        "print(\"longest sentence in development:\", max(val['length']))\n",
        "print(\"longest sentence in testing:\", max(test['length']))"
      ],
      "metadata": {
        "colab": {
          "base_uri": "https://localhost:8080/"
        },
        "id": "lbLVTsCgogzw",
        "outputId": "831e3b77-c477-4761-a150-6fff593e0706"
      },
      "execution_count": null,
      "outputs": [
        {
          "output_type": "stream",
          "name": "stdout",
          "text": [
            "longest sentence in training: 113\n",
            "longest sentence in development: 109\n",
            "longest sentence in testing: 124\n"
          ]
        }
      ]
    },
    {
      "cell_type": "code",
      "source": [
        "train_sentences = train['sentence'].tolist()\n",
        "train_ner_tags = train['NER_tags'].tolist()\n",
        "val_sentences = val['sentence'].tolist()\n",
        "val_ner_tags = val['NER_tags'].tolist()\n",
        "test_sentences = test['sentence'].tolist()\n",
        "test_ner_tags = test['NER_tags'].tolist()"
      ],
      "metadata": {
        "id": "Xng7CrauDm58"
      },
      "execution_count": null,
      "outputs": []
    },
    {
      "cell_type": "code",
      "source": [
        "word_tokenizer = Tokenizer(filters=[], lower=False, oov_token='OOV')  #tried keeping the case vs change all of them to lower case, ~10% increment in validation f1 score and 5% increment in testing f1 score\n",
        "word_tokenizer.fit_on_texts(train_sentences)\n",
        "\n",
        "tag_tokenizer = Tokenizer(filters=[],lower=False)\n",
        "tag_tokenizer.fit_on_texts(train_ner_tags)\n",
        "\n",
        "#post-padded to 124 as the longest sequence in all the data is 124\n",
        "X_train = pad_sequences(word_tokenizer.texts_to_sequences(train_sentences), maxlen=124, padding='post')\n",
        "Y_train = pad_sequences(tag_tokenizer.texts_to_sequences(train_ner_tags), maxlen=124, padding='post')\n",
        "\n",
        "X_val = pad_sequences(word_tokenizer.texts_to_sequences(val_sentences), maxlen=124, padding='post')\n",
        "Y_val = pad_sequences(tag_tokenizer.texts_to_sequences(val_ner_tags), maxlen=124, padding='post')\n",
        "\n",
        "X_test = pad_sequences(word_tokenizer.texts_to_sequences(test_sentences), maxlen=124, padding='post')\n",
        "Y_test = pad_sequences(tag_tokenizer.texts_to_sequences(test_ner_tags), maxlen=124, padding='post')\n",
        "\n",
        "#create embedding matrix with w2v\n",
        "vocab_size = len(word_tokenizer.word_index) + 1\n",
        "embedding_dim = 300\n",
        "embedding_matrix = np.zeros((vocab_size, embedding_dim))\n",
        "\n",
        "for word, idx in word_tokenizer.word_index.items():\n",
        "    try:\n",
        "        embedding_vector = w2v[word]\n",
        "        embedding_matrix[idx] = embedding_vector\n",
        "    except KeyError:\n",
        "        continue\n",
        "oov_idx = word_tokenizer.word_index.get('OOV', 0)\n",
        "if oov_idx != 0:\n",
        "    embedding_matrix[oov_idx] = np.zeros(embedding_dim)\n",
        "\n",
        "tag_tokenizer.index_word[0] = 'PAD'\n",
        "tag_tokenizer.index_word"
      ],
      "metadata": {
        "id": "VlAkm3FRqbqh",
        "colab": {
          "base_uri": "https://localhost:8080/"
        },
        "outputId": "6c0b9236-942b-4b2b-9a24-d3b09a5147f4"
      },
      "execution_count": null,
      "outputs": [
        {
          "output_type": "execute_result",
          "data": {
            "text/plain": [
              "{1: 'O',\n",
              " 2: 'I-PER',\n",
              " 3: 'I-ORG',\n",
              " 4: 'I-LOC',\n",
              " 5: 'I-MISC',\n",
              " 6: 'B-MISC',\n",
              " 7: 'B-ORG',\n",
              " 8: 'B-LOC',\n",
              " 0: 'PAD'}"
            ]
          },
          "metadata": {},
          "execution_count": 11
        }
      ]
    },
    {
      "cell_type": "markdown",
      "source": [
        "## Model training"
      ],
      "metadata": {
        "id": "a_GcH26z5zoO"
      }
    },
    {
      "cell_type": "markdown",
      "source": [
        "The hyperparameters for the following model have been tuned through grid-search.\n",
        "\n",
        "\n",
        "*   Bidirection LSTM (100 units, batchsize 16, adam. starting learning rate 0.01 with learning rate reduction of factor 0.2 with patience of 3)\n",
        "*   remove padding for f1 evaluation via seqeval\n",
        "*   Custom earlystopper (based on validation F1 score with patience 5)\n",
        "\n",
        "\n"
      ],
      "metadata": {
        "id": "rcWFr76a5DV3"
      }
    },
    {
      "cell_type": "code",
      "source": [
        "start_time = time.time()\n",
        "best_f1 = 0.0\n",
        "patience_counter = 0\n",
        "f1_list = []\n",
        "\n",
        "#remove padding from evaluation\n",
        "def remove_padding(y_true, y_pred):\n",
        "    # print(y_true[0])\n",
        "    # print(y_pred[0])\n",
        "    y_true_no_pad = []\n",
        "    y_pred_no_pad = []\n",
        "    for true_seq, pred_seq in zip(y_true, y_pred):\n",
        "        true_no_pad = [tag for tag in true_seq if tag != 'PAD']\n",
        "        pred_no_pad = [tag for i, tag in enumerate(pred_seq) if true_seq[i] != 'PAD']\n",
        "        y_true_no_pad.append(true_no_pad)\n",
        "        y_pred_no_pad.append(pred_no_pad)\n",
        "    # print(y_true_no_pad[0])\n",
        "    # print(y_pred_no_pad[0])\n",
        "    return y_true_no_pad, y_pred_no_pad\n",
        "\n",
        "#early stopping when f1 on development set is no longer increasing\n",
        "def on_epoch_end(epoch, logs):\n",
        "    global best_f1, patience_counter, f1_list\n",
        "\n",
        "    Y_pred = model.predict(X_val)\n",
        "    pred_tags = [[tag_tokenizer.index_word[np.argmax(y)] for y in pred] for pred in Y_pred]\n",
        "    val_tags = [[tag_tokenizer.index_word[y] for y in val] for val in Y_val]\n",
        "    val_tags_no_pad, pred_tags_no_pad = remove_padding(val_tags, pred_tags)\n",
        "    current_f1 = f1_score(val_tags_no_pad, pred_tags_no_pad)\n",
        "\n",
        "    print(f\"Epoch {epoch + 1}, F1 Score: {current_f1}\")\n",
        "    f1_list.append([epoch + 1, current_f1])\n",
        "\n",
        "    if current_f1 > best_f1:\n",
        "        best_f1 = current_f1\n",
        "        patience_counter = 0\n",
        "    else:\n",
        "        patience_counter += 1\n",
        "        if patience_counter >= 5:  #patience =5\n",
        "            print(f\"Early stopping. Best F1 Score: {best_f1}\")\n",
        "            patience_counter = 0\n",
        "            model.stop_training = True\n",
        "\n",
        "model = Sequential()\n",
        "\n",
        "model.add(Embedding(input_dim=vocab_size, output_dim=300, weights=[embedding_matrix], trainable=False, mask_zero=True)) #trainable set to false to keep matrix frozen\n",
        "\n",
        "model.add(Bidirectional(LSTM(units=100, return_sequences=True)))\n",
        "\n",
        "model.add(TimeDistributed(Dense(len(tag_tokenizer.word_index) + 1, activation='softmax')))\n",
        "\n",
        "custom_adam = Adam(learning_rate=0.01)\n",
        "\n",
        "model.compile(optimizer=custom_adam, loss='sparse_categorical_crossentropy', metrics=['accuracy'])\n",
        "\n",
        "reduce_lr = ReduceLROnPlateau(monitor='val_loss', factor=0.2, patience=3, min_lr=0.001)\n",
        "\n",
        "f1_callback = LambdaCallback(on_epoch_end=on_epoch_end)\n",
        "\n",
        "history = model.fit(X_train, Y_train.reshape(*Y_train.shape, 1),\n",
        "                    batch_size=16, epochs=50,\n",
        "                    validation_data=(X_val, Y_val.reshape(*Y_val.shape, 1)),\n",
        "                    callbacks=[reduce_lr, f1_callback])\n",
        "\n",
        "end_time = time.time()\n",
        "total_time = end_time - start_time\n",
        "print(f\"Total runtime: {total_time} seconds\")"
      ],
      "metadata": {
        "colab": {
          "base_uri": "https://localhost:8080/"
        },
        "id": "up3pV9rbCEW_",
        "outputId": "db009ace-b89c-4812-dac1-43fbf335e9a1"
      },
      "execution_count": null,
      "outputs": [
        {
          "output_type": "stream",
          "name": "stdout",
          "text": [
            "Epoch 1/50\n",
            "109/109 [==============================] - 3s 4ms/step\n",
            "Epoch 1, F1 Score: 0.7749030920400253\n",
            "937/937 [==============================] - 26s 19ms/step - loss: 0.1186 - accuracy: 0.9683 - val_loss: 0.1549 - val_accuracy: 0.9575 - lr: 0.0100\n",
            "Epoch 2/50\n",
            "109/109 [==============================] - 0s 4ms/step\n",
            "Epoch 2, F1 Score: 0.8166965888689408\n",
            "937/937 [==============================] - 12s 13ms/step - loss: 0.0561 - accuracy: 0.9844 - val_loss: 0.1383 - val_accuracy: 0.9632 - lr: 0.0100\n",
            "Epoch 3/50\n",
            "109/109 [==============================] - 0s 4ms/step\n",
            "Epoch 3, F1 Score: 0.8042976380749423\n",
            "937/937 [==============================] - 12s 13ms/step - loss: 0.0369 - accuracy: 0.9897 - val_loss: 0.1441 - val_accuracy: 0.9621 - lr: 0.0100\n",
            "Epoch 4/50\n",
            "109/109 [==============================] - 0s 4ms/step\n",
            "Epoch 4, F1 Score: 0.8242381289865344\n",
            "937/937 [==============================] - 13s 13ms/step - loss: 0.0258 - accuracy: 0.9926 - val_loss: 0.1507 - val_accuracy: 0.9651 - lr: 0.0100\n",
            "Epoch 5/50\n",
            "109/109 [==============================] - 0s 4ms/step\n",
            "Epoch 5, F1 Score: 0.8183976783044588\n",
            "937/937 [==============================] - 12s 13ms/step - loss: 0.0199 - accuracy: 0.9941 - val_loss: 0.1607 - val_accuracy: 0.9643 - lr: 0.0100\n",
            "Epoch 6/50\n",
            "109/109 [==============================] - 0s 4ms/step\n",
            "Epoch 6, F1 Score: 0.8266196562362274\n",
            "937/937 [==============================] - 13s 13ms/step - loss: 0.0099 - accuracy: 0.9972 - val_loss: 0.1689 - val_accuracy: 0.9657 - lr: 0.0020\n",
            "Epoch 7/50\n",
            "109/109 [==============================] - 0s 4ms/step\n",
            "Epoch 7, F1 Score: 0.8247750132345157\n",
            "937/937 [==============================] - 12s 13ms/step - loss: 0.0045 - accuracy: 0.9991 - val_loss: 0.1854 - val_accuracy: 0.9654 - lr: 0.0020\n",
            "Epoch 8/50\n",
            "109/109 [==============================] - 0s 4ms/step\n",
            "Epoch 8, F1 Score: 0.8227112676056338\n",
            "937/937 [==============================] - 12s 13ms/step - loss: 0.0031 - accuracy: 0.9993 - val_loss: 0.2086 - val_accuracy: 0.9653 - lr: 0.0020\n",
            "Epoch 9/50\n",
            "109/109 [==============================] - 0s 4ms/step\n",
            "Epoch 9, F1 Score: 0.8223144143348927\n",
            "937/937 [==============================] - 12s 13ms/step - loss: 0.0024 - accuracy: 0.9995 - val_loss: 0.2182 - val_accuracy: 0.9652 - lr: 0.0010\n",
            "Epoch 10/50\n",
            "109/109 [==============================] - 0s 4ms/step\n",
            "Epoch 10, F1 Score: 0.8211827007943513\n",
            "937/937 [==============================] - 12s 13ms/step - loss: 0.0021 - accuracy: 0.9996 - val_loss: 0.2309 - val_accuracy: 0.9649 - lr: 0.0010\n",
            "Epoch 11/50\n",
            "109/109 [==============================] - 0s 4ms/step\n",
            "Epoch 11, F1 Score: 0.8219904543044017\n",
            "Early stopping. Best F1 Score: 0.8266196562362274\n",
            "937/937 [==============================] - 13s 13ms/step - loss: 0.0021 - accuracy: 0.9996 - val_loss: 0.2426 - val_accuracy: 0.9650 - lr: 0.0010\n",
            "Total runtime: 152.8239767551422 seconds\n"
          ]
        }
      ]
    },
    {
      "cell_type": "code",
      "source": [
        "Y_pred = model.predict(X_test)\n",
        "\n",
        "pred_tags = [[tag_tokenizer.index_word[np.argmax(y)] for y in pred] for pred in Y_pred]\n",
        "test_tags = [[tag_tokenizer.index_word.get(y, 'PAD') for y in true] for true in Y_test]\n",
        "test_tags_no_pad, pred_tags_no_pad = remove_padding(test_tags, pred_tags)\n",
        "\n",
        "print(\"Test F1 Score:\", f1_score(test_tags_no_pad, pred_tags_no_pad))"
      ],
      "metadata": {
        "colab": {
          "base_uri": "https://localhost:8080/"
        },
        "id": "2_2BK0g5NGL0",
        "outputId": "0d5ca95c-4ea0-4ba6-acdc-d523d34dcd0d"
      },
      "execution_count": null,
      "outputs": [
        {
          "output_type": "stream",
          "name": "stdout",
          "text": [
            "116/116 [==============================] - 0s 4ms/step\n",
            "Test F1 Score: 0.7383709891779001\n"
          ]
        }
      ]
    },
    {
      "cell_type": "markdown",
      "source": [
        "## Part a)\n",
        "\n",
        "\n",
        ">  **Discuss how you deal with new words in the training set which are not found in the pretrained dictionary. Likewise, how do you deal with new words in the test set which are not found in either the pretrained dictionary or the training set? Show the corresponding code snippet.**\n",
        "\n",
        "```\n",
        "word_tokenizer = Tokenizer(filters=[], lower=False, oov_token='OOV')\n",
        "\n",
        "for word, idx in word_tokenizer.word_index.items():\n",
        "    try:\n",
        "        embedding_vector = w2v[word]\n",
        "        embedding_matrix[idx] = embedding_vector\n",
        "    except KeyError:\n",
        "        continue\n",
        "oov_idx = word_tokenizer.word_index.get('OOV', 0)\n",
        "if oov_idx != 0:\n",
        "    embedding_matrix[oov_idx] = np.zeros(embedding_dim)\n",
        "```\n",
        "\n",
        "For training, validation and testing sets, words that are not in the pre-trained dictionary, they are represented by 'OOV' (Out-Of-Vocabulary) token which are converted to zero vectors.\n",
        "\n"
      ],
      "metadata": {
        "id": "PrspKxz431Af"
      }
    },
    {
      "cell_type": "markdown",
      "source": [
        "## Part b)\n",
        "\n",
        ">  **Describe what neural network you used to produce the final vector representation of each word and what are the mathematical functions used for the forward computation (i.e., from the pretrained word vectors to the final label of each word).**\n",
        "\n",
        "The architecture used for generating the final vector representation of each word is a Sequential model comprised of the following layers:\n",
        "\n",
        "1. **Embedding Layer**: This layer converts token indices to vectors of fixed size, 300 in this case. The weight of this layer is initialized with pre-trained vectors and is kept frozen during training (trainable=False).\n",
        "\n",
        "2. **Bidirectional LSTM Layer**: This layer has 100 LSTM units and returns sequences, effectively doubling the output dimensions due to its bidirectional nature (100 units in each direction).\n",
        "\n",
        "3. **TimeDistributed Dense Layer**: This layer has a number of output units equal to len(tag_tokenizer.word_index) + 1, 9 in this case, each applying a softmax activation function.\n",
        "\n",
        "**Mathematical functions**\n",
        "1. **Embedding Layer**: Vector lookup\n",
        "\n",
        "2. **Bidirectional LSTM Layer**: LSTM cell operations (sigmoid and tanh activations)\n",
        "\n",
        "3. **TimeDistributed Dense Layer**: Linear transformation followed by a softmax activation.\n",
        "\n",
        "\n",
        "---\n",
        "---\n",
        "> **Give the detailed setting of the network including which parameters are being updated, what are their sizes, and what is the length of the final vector representation of each word to be fed to the softmax classifier.**\n",
        "\n",
        "```\n",
        "model = Sequential()\n",
        "model.add(Embedding(input_dim=vocab_size, output_dim=300, weights=[embedding_matrix], trainable=False, mask_zero=True))\n",
        "model.add(Bidirectional(LSTM(units=100, return_sequences=True)))\n",
        "model.add(TimeDistributed(Dense(len(tag_tokenizer.word_index) + 1, activation='softmax')))\n",
        "\n",
        "custom_adam = Adam(learning_rate=0.01)\n",
        "\n",
        "model.compile(optimizer=custom_adam, loss='sparse_categorical_crossentropy', metrics=['accuracy'])\n",
        "\n",
        "reduce_lr = ReduceLROnPlateau(monitor='val_loss', factor=0.2, patience=3, min_lr=0.001)\n",
        "\n",
        "f1_callback = LambdaCallback(on_epoch_end=on_epoch_end)\n",
        "\n",
        "history = model.fit(X_train, Y_train.reshape(*Y_train.shape, 1),\n",
        "                    batch_size=16, epochs=50,\n",
        "                    validation_data=(X_val, Y_val.reshape(*Y_val.shape, 1)),\n",
        "                    callbacks=[reduce_lr, f1_callback])\n",
        "\n",
        "```\n",
        "\n",
        "\n",
        "**Network settings**\n",
        "\n",
        "Embedding layer:\n",
        "- Parameters being updated: None (**Non-trainable**)\n",
        "- Size: vocabulary size (23626) x embedding dimension (300) = **7,087,800**\n",
        "\n",
        "Bidirectional LSTM Layer:\n",
        "- Parameters veing updated: Weights and biases in the forward and backward LSTM units\n",
        "- Size: 4 * ((size_of_input + 1) * size_of_output + size_of_output^2), which in this case would be 4 * ((300 + 1) * 100 + 100^2) = 4 * (30100 + 10000) = 4 * 40100 = 160400. Because it's bidirectional, this number is doubled: 160,400 * 2 = **320,800**\n",
        "\n",
        "TimeDistributed dense layer (softmax classifier):\n",
        "\n",
        "- Parameters being updated: Weights and biases in the dense layer\n",
        "- Size: output dimension of the previous layer (200) times the output dimension of this layer (9) plus the bias terms for each output node (9). That is, (200 * 9) + 9 = **1809**\n",
        "\n",
        "\n",
        "**Additional Information**\n",
        "- Batch size: 16\n",
        "- Optimizer: Adam with a custom learning rate of 0.01\n",
        "- Loss function: Sparse categorical cross-entropy\n",
        "- Other callbacks: Reduce learning rate by factor of 0.2 on plateau with patience of 3, custom F1 score calculation for early stopping with patience of 5\n",
        "\n",
        "\n",
        "**Final cector Representation**\n",
        "\n",
        "- Length of final vector: 9, corresponding to the 8 unique NER tags and the 'PAD' tag. Each element of this vector will represent the probability that the input word belongs to one of these 9 classes.\n",
        "\n",
        "\n",
        "\n",
        "\n",
        "\n"
      ],
      "metadata": {
        "id": "5YLMWNaw4S-2"
      }
    },
    {
      "cell_type": "code",
      "source": [
        "|model.summary()"
      ],
      "metadata": {
        "colab": {
          "base_uri": "https://localhost:8080/"
        },
        "id": "MPxMj3ut32my",
        "outputId": "ea8efe44-2829-4478-a638-90d69ebae6e8"
      },
      "execution_count": null,
      "outputs": [
        {
          "output_type": "stream",
          "name": "stdout",
          "text": [
            "Model: \"sequential\"\n",
            "_________________________________________________________________\n",
            " Layer (type)                Output Shape              Param #   \n",
            "=================================================================\n",
            " embedding (Embedding)       (None, None, 300)         7087800   \n",
            "                                                                 \n",
            " bidirectional (Bidirection  (None, None, 200)         320800    \n",
            " al)                                                             \n",
            "                                                                 \n",
            " time_distributed (TimeDist  (None, None, 9)           1809      \n",
            " ributed)                                                        \n",
            "                                                                 \n",
            "=================================================================\n",
            "Total params: 7410409 (28.27 MB)\n",
            "Trainable params: 322609 (1.23 MB)\n",
            "Non-trainable params: 7087800 (27.04 MB)\n",
            "_________________________________________________________________\n"
          ]
        }
      ]
    },
    {
      "cell_type": "markdown",
      "source": [
        "## Part c)\n",
        "\n",
        "\n",
        "> **Report how many epochs you used for training, as well as the running time**\n",
        "\n",
        "\n",
        "The model is set to run for a **maximum of 50 epochs**, but early stopping is implemented based on the F1 score on the development set. If the F1 score doesn't improve for 5 consecutive epochs, the training will stop. In this case it took **11 epochs**"
      ],
      "metadata": {
        "id": "LbFsLoSRY3kq"
      }
    },
    {
      "cell_type": "markdown",
      "source": [
        "## Part d)\n",
        "> **Report the f1 score on the test set, as well as the f1 score on the development set for each epoch during training.**"
      ],
      "metadata": {
        "id": "ZwCeHAl3cicJ"
      }
    },
    {
      "cell_type": "code",
      "source": [
        "print(f\"Total training time: {total_time} seconds\")\n",
        "print()\n",
        "print(f\"F1 score on test set: {f1_score(test_tags_no_pad, pred_tags_no_pad)}\")\n",
        "print()\n",
        "for epoch, f1 in f1_list:\n",
        "    print(f\"Epoch: {epoch}, F1 Score: {f1}\")\n",
        "\n",
        "import matplotlib.pyplot as plt\n",
        "\n",
        "epochs, f1s = zip(*f1_list)\n",
        "\n",
        "plt.figure(figsize=(10, 6))\n",
        "plt.plot(epochs, f1s, marker='o')\n",
        "plt.title('F1 Score by Epoch')\n",
        "plt.xlabel('Epoch')\n",
        "plt.ylabel('F1 Score')\n",
        "plt.grid(True)\n",
        "plt.show()"
      ],
      "metadata": {
        "colab": {
          "base_uri": "https://localhost:8080/",
          "height": 824
        },
        "id": "kVbT8AWUXxJ5",
        "outputId": "f72202bb-5f2e-4b86-df7d-7ae534f3360a"
      },
      "execution_count": null,
      "outputs": [
        {
          "output_type": "stream",
          "name": "stdout",
          "text": [
            "Total training time: 152.8239767551422 seconds\n",
            "\n",
            "F1 score on test set: 0.7383709891779001\n",
            "\n",
            "Epoch: 1, F1 Score: 0.7749030920400253\n",
            "Epoch: 2, F1 Score: 0.8166965888689408\n",
            "Epoch: 3, F1 Score: 0.8042976380749423\n",
            "Epoch: 4, F1 Score: 0.8242381289865344\n",
            "Epoch: 5, F1 Score: 0.8183976783044588\n",
            "Epoch: 6, F1 Score: 0.8266196562362274\n",
            "Epoch: 7, F1 Score: 0.8247750132345157\n",
            "Epoch: 8, F1 Score: 0.8227112676056338\n",
            "Epoch: 9, F1 Score: 0.8223144143348927\n",
            "Epoch: 10, F1 Score: 0.8211827007943513\n",
            "Epoch: 11, F1 Score: 0.8219904543044017\n"
          ]
        },
        {
          "output_type": "display_data",
          "data": {
            "text/plain": [
              "<Figure size 1000x600 with 1 Axes>"
            ],
            "image/png": "[encoded data removed]"
          },
          "metadata": {}
        }
      ]
    }
  ]
}