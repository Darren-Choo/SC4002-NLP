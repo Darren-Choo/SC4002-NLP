{
 "cells": [
  {
   "cell_type": "code",
   "execution_count": 1,
   "id": "45ffa00d",
   "metadata": {
    "id": "45ffa00d"
   },
   "outputs": [],
   "source": [
    "import numpy as np\n",
    "import pandas as pd\n",
    "import matplotlib.pyplot as plt\n",
    "\n",
    "\n",
    "import torch\n",
    "import torch.nn as nn\n",
    "from torch.utils.data import DataLoader\n",
    "from torch.utils.data import Dataset\n",
    "\n",
    "from numpy import random\n",
    "seed = 0\n",
    "random.seed(seed)\n",
    "torch.manual_seed(seed)\n",
    "np.random.seed(seed)\n",
    "torch.cuda.manual_seed_all(seed)\n",
    "torch.backends.cudnn.deterministic = True\n",
    "torch.backends.cudnn.benchmark = False"
   ]
  },
  {
   "cell_type": "code",
   "execution_count": 2,
   "id": "daaf6bbc",
   "metadata": {
    "id": "daaf6bbc"
   },
   "outputs": [
    {
     "name": "stdout",
     "output_type": "stream",
     "text": [
      "Requirement already satisfied: gensim in c:\\users\\asus\\anaconda3\\lib\\site-packages (4.3.0)\n",
      "Requirement already satisfied: numpy>=1.18.5 in c:\\users\\asus\\anaconda3\\lib\\site-packages (from gensim) (1.24.3)\n",
      "Requirement already satisfied: scipy>=1.7.0 in c:\\users\\asus\\anaconda3\\lib\\site-packages (from gensim) (1.11.1)\n",
      "Requirement already satisfied: smart-open>=1.8.1 in c:\\users\\asus\\anaconda3\\lib\\site-packages (from gensim) (5.2.1)\n",
      "Requirement already satisfied: FuzzyTM>=0.4.0 in c:\\users\\asus\\anaconda3\\lib\\site-packages (from gensim) (2.0.5)\n",
      "Requirement already satisfied: pandas in c:\\users\\asus\\anaconda3\\lib\\site-packages (from FuzzyTM>=0.4.0->gensim) (2.0.3)\n",
      "Requirement already satisfied: pyfume in c:\\users\\asus\\anaconda3\\lib\\site-packages (from FuzzyTM>=0.4.0->gensim) (0.2.25)\n",
      "Requirement already satisfied: python-dateutil>=2.8.2 in c:\\users\\asus\\anaconda3\\lib\\site-packages (from pandas->FuzzyTM>=0.4.0->gensim) (2.8.2)\n",
      "Requirement already satisfied: pytz>=2020.1 in c:\\users\\asus\\anaconda3\\lib\\site-packages (from pandas->FuzzyTM>=0.4.0->gensim) (2023.3.post1)\n",
      "Requirement already satisfied: tzdata>=2022.1 in c:\\users\\asus\\anaconda3\\lib\\site-packages (from pandas->FuzzyTM>=0.4.0->gensim) (2023.3)\n",
      "Requirement already satisfied: simpful in c:\\users\\asus\\anaconda3\\lib\\site-packages (from pyfume->FuzzyTM>=0.4.0->gensim) (2.11.0)\n",
      "Requirement already satisfied: fst-pso in c:\\users\\asus\\anaconda3\\lib\\site-packages (from pyfume->FuzzyTM>=0.4.0->gensim) (1.8.1)\n",
      "Requirement already satisfied: six>=1.5 in c:\\users\\asus\\anaconda3\\lib\\site-packages (from python-dateutil>=2.8.2->pandas->FuzzyTM>=0.4.0->gensim) (1.16.0)\n",
      "Requirement already satisfied: miniful in c:\\users\\asus\\anaconda3\\lib\\site-packages (from fst-pso->pyfume->FuzzyTM>=0.4.0->gensim) (0.0.6)\n"
     ]
    }
   ],
   "source": [
    "!pip install gensim\n",
    "import gensim.downloader\n",
    "\n",
    "w2v = gensim.downloader.load('word2vec-google-news-300')"
   ]
  },
  {
   "cell_type": "code",
   "execution_count": 3,
   "id": "497e755e",
   "metadata": {
    "id": "497e755e"
   },
   "outputs": [
    {
     "data": {
      "text/plain": [
       "array([[-8.34960938e-02,  9.61914062e-02,  2.02148438e-01,\n",
       "         1.32812500e-01,  1.92382812e-01, -9.46044922e-03,\n",
       "         1.47460938e-01,  8.20312500e-02, -1.82617188e-01,\n",
       "        -9.96093750e-02, -5.10253906e-02, -1.06445312e-01,\n",
       "         1.40625000e-01, -6.39648438e-02, -2.24609375e-01,\n",
       "         2.12890625e-01,  2.63671875e-02, -1.18164062e-01,\n",
       "         8.49609375e-02, -1.13769531e-01,  1.38671875e-01,\n",
       "         2.53906250e-01, -5.51757812e-02,  1.59179688e-01,\n",
       "        -9.86328125e-02, -7.76367188e-02, -2.38281250e-01,\n",
       "         1.53320312e-01, -5.51757812e-02, -3.56445312e-02,\n",
       "        -2.15820312e-01, -2.67578125e-01, -4.17480469e-02,\n",
       "        -1.51367188e-01,  2.89062500e-01, -2.58789062e-02,\n",
       "        -4.10156250e-02, -2.89062500e-01,  2.13867188e-01,\n",
       "         1.76239014e-03, -8.88671875e-02,  1.35498047e-02,\n",
       "         5.73730469e-02,  7.22656250e-02, -5.00488281e-02,\n",
       "        -1.61132812e-01, -3.10058594e-02, -2.39257812e-02,\n",
       "        -1.14257812e-01,  1.23046875e-01, -8.34960938e-02,\n",
       "        -1.55273438e-01, -1.14135742e-02,  6.98242188e-02,\n",
       "         2.40234375e-01, -1.54296875e-01, -1.39648438e-01,\n",
       "        -3.34472656e-02, -1.44042969e-02, -1.24511719e-01,\n",
       "        -1.93023682e-03, -6.01196289e-03, -7.27539062e-02,\n",
       "         7.81250000e-03,  9.52148438e-02, -2.07519531e-02,\n",
       "         5.71289062e-02, -6.03027344e-02,  6.49414062e-02,\n",
       "        -5.73730469e-02, -2.09960938e-01, -7.91015625e-02,\n",
       "        -7.27539062e-02,  7.56835938e-02,  2.08007812e-01,\n",
       "        -1.78222656e-02,  1.70898438e-01,  2.04101562e-01,\n",
       "         2.31933594e-03,  2.15820312e-01,  1.66992188e-01,\n",
       "        -7.61718750e-02, -6.05468750e-02, -8.93554688e-02,\n",
       "        -3.58886719e-02, -6.53076172e-03, -1.64062500e-01,\n",
       "         1.47460938e-01,  2.77343750e-01, -3.05175781e-02,\n",
       "        -1.71875000e-01, -1.68457031e-02,  2.31933594e-02,\n",
       "        -1.93359375e-01,  1.02539062e-01,  1.52343750e-01,\n",
       "         1.02539062e-02, -3.41796875e-02, -9.03320312e-03,\n",
       "         1.35498047e-02,  9.61914062e-02,  3.41796875e-02,\n",
       "        -2.67578125e-01, -5.79833984e-03, -1.88476562e-01,\n",
       "         3.34472656e-02, -1.53320312e-01, -2.65625000e-01,\n",
       "         1.07421875e-01, -4.68750000e-02, -2.09960938e-02,\n",
       "         8.69140625e-02,  1.44042969e-02,  1.02050781e-01,\n",
       "         8.69140625e-02,  2.55859375e-01, -6.64062500e-02,\n",
       "        -9.76562500e-02,  1.43554688e-01, -8.83789062e-02,\n",
       "        -1.15234375e-01,  4.49218750e-02,  1.10839844e-01,\n",
       "         3.41796875e-01,  6.83593750e-02,  3.75976562e-02,\n",
       "        -5.29785156e-02,  1.29394531e-02,  2.73437500e-02,\n",
       "         9.86328125e-02,  1.39648438e-01, -1.43554688e-01,\n",
       "         5.09643555e-03, -2.59765625e-01,  3.88183594e-02,\n",
       "        -2.64892578e-02,  1.95312500e-01,  5.51757812e-02,\n",
       "        -6.12792969e-02,  2.02148438e-01, -1.69921875e-01,\n",
       "        -3.27148438e-02, -1.36108398e-02, -1.27929688e-01,\n",
       "         1.77734375e-01, -8.74023438e-02,  1.12304688e-01,\n",
       "         6.12792969e-02, -2.10937500e-01, -4.95605469e-02,\n",
       "         2.15820312e-01, -4.49218750e-02,  4.07714844e-02,\n",
       "         9.32617188e-02,  5.44433594e-02, -1.54296875e-01,\n",
       "        -3.35693359e-03,  9.52148438e-02,  3.17382812e-02,\n",
       "         1.69677734e-02,  1.39648438e-01,  3.22265625e-01,\n",
       "         4.76074219e-02,  3.12500000e-02, -4.52041626e-04,\n",
       "         7.24792480e-04,  2.20703125e-01, -4.24804688e-02,\n",
       "         1.98242188e-01, -6.98852539e-03, -7.56835938e-02,\n",
       "        -3.61328125e-02, -8.05664062e-02, -1.60156250e-01,\n",
       "         2.59765625e-01, -3.07617188e-02,  8.30078125e-02,\n",
       "        -1.15356445e-02, -9.13085938e-02,  8.34960938e-02,\n",
       "        -1.62109375e-01, -2.24609375e-01,  1.15966797e-02,\n",
       "         4.12597656e-02, -1.33789062e-01,  4.34570312e-02,\n",
       "        -4.19921875e-02, -3.51562500e-02, -8.72802734e-03,\n",
       "        -2.23388672e-02, -1.37695312e-01, -2.17773438e-01,\n",
       "         2.10937500e-01, -1.22070312e-01, -3.96484375e-01,\n",
       "        -6.25000000e-02,  3.95507812e-02,  2.57568359e-02,\n",
       "         8.54492188e-03,  3.27148438e-02, -8.49609375e-02,\n",
       "        -6.07910156e-02,  1.64794922e-02,  1.06933594e-01,\n",
       "         3.39355469e-02, -1.12915039e-02,  1.75781250e-02,\n",
       "         2.08984375e-01,  1.72119141e-02,  1.12304688e-01,\n",
       "        -8.83789062e-02,  3.93066406e-02, -1.85546875e-01,\n",
       "         2.22656250e-01,  1.66015625e-01,  2.26562500e-01,\n",
       "         1.49414062e-01,  2.22167969e-02, -3.04687500e-01,\n",
       "        -7.22656250e-02, -6.07910156e-02, -3.75976562e-02,\n",
       "         7.86132812e-02,  3.55468750e-01, -3.29589844e-03,\n",
       "        -6.59179688e-02,  5.95703125e-02, -2.27050781e-02,\n",
       "         2.63671875e-02, -1.40625000e-01,  8.20312500e-02,\n",
       "         1.55029297e-02,  1.46484375e-01, -4.90722656e-02,\n",
       "        -4.95605469e-02,  7.32421875e-02,  2.62451172e-02,\n",
       "         1.30859375e-01,  1.08032227e-02, -8.44726562e-02,\n",
       "        -3.22265625e-02, -9.76562500e-04, -2.86865234e-02,\n",
       "        -1.40991211e-02, -1.51367188e-01, -1.45507812e-01,\n",
       "         2.40478516e-02, -1.71875000e-01,  9.94873047e-03,\n",
       "        -5.05371094e-02, -2.56347656e-02, -1.51367188e-01,\n",
       "        -1.63085938e-01, -1.39648438e-01, -1.68457031e-02,\n",
       "         1.01562500e-01,  1.45874023e-02,  4.73632812e-02,\n",
       "        -1.81640625e-01, -1.15966797e-02,  1.26953125e-01,\n",
       "         5.83496094e-02, -8.78906250e-02,  7.95898438e-02,\n",
       "        -1.46484375e-01,  1.76757812e-01, -6.25000000e-02,\n",
       "         6.34765625e-02, -2.96875000e-01,  2.05078125e-01,\n",
       "         1.27563477e-02, -1.60156250e-01, -1.17187500e-02,\n",
       "         1.96289062e-01, -1.68945312e-01, -2.91015625e-01,\n",
       "         1.06445312e-01, -9.76562500e-02, -2.85644531e-02,\n",
       "        -1.13769531e-01, -1.94335938e-01,  1.04003906e-01,\n",
       "         2.29492188e-01,  1.90429688e-01, -1.36566162e-03,\n",
       "        -1.57226562e-01,  2.01416016e-02,  4.78515625e-02,\n",
       "         2.26562500e-01, -1.39648438e-01, -2.13867188e-01,\n",
       "         1.53320312e-01, -6.25610352e-03, -7.32421875e-02,\n",
       "        -1.46484375e-02, -1.28906250e-01, -2.42919922e-02,\n",
       "        -1.51367188e-02, -1.02050781e-01, -7.32421875e-02],\n",
       "       [ 1.07421875e-01, -2.01171875e-01,  1.23046875e-01,\n",
       "         2.11914062e-01, -9.13085938e-02,  2.16796875e-01,\n",
       "        -1.31835938e-01,  8.30078125e-02,  2.02148438e-01,\n",
       "         4.78515625e-02,  3.66210938e-02, -2.45361328e-02,\n",
       "         2.39257812e-02, -1.60156250e-01, -2.61230469e-02,\n",
       "         9.71679688e-02, -6.34765625e-02,  1.84570312e-01,\n",
       "         1.70898438e-01, -1.63085938e-01, -1.09375000e-01,\n",
       "         1.49414062e-01, -4.65393066e-04,  9.61914062e-02,\n",
       "         1.68945312e-01,  2.60925293e-03,  8.93554688e-02,\n",
       "         6.49414062e-02,  3.56445312e-02, -6.93359375e-02,\n",
       "        -1.46484375e-01, -1.21093750e-01, -2.27539062e-01,\n",
       "         2.45361328e-02, -1.24511719e-01, -3.18359375e-01,\n",
       "        -2.20703125e-01,  1.30859375e-01,  3.66210938e-02,\n",
       "        -3.63769531e-02, -1.13281250e-01,  1.95312500e-01,\n",
       "         9.76562500e-02,  1.26953125e-01,  6.59179688e-02,\n",
       "         6.93359375e-02,  1.02539062e-02,  1.75781250e-01,\n",
       "        -1.68945312e-01,  1.21307373e-03, -2.98828125e-01,\n",
       "        -1.15234375e-01,  5.66406250e-02, -1.77734375e-01,\n",
       "        -2.08984375e-01,  1.76757812e-01,  2.38037109e-02,\n",
       "        -2.57812500e-01, -4.46777344e-02,  1.88476562e-01,\n",
       "         5.51757812e-02,  5.02929688e-02, -1.06933594e-01,\n",
       "         1.89453125e-01, -1.16210938e-01,  8.49609375e-02,\n",
       "        -1.71875000e-01,  2.45117188e-01, -1.73828125e-01,\n",
       "        -8.30078125e-03,  4.56542969e-02, -1.61132812e-02,\n",
       "         1.86523438e-01, -6.05468750e-02, -4.17480469e-02,\n",
       "         1.82617188e-01,  2.20703125e-01, -1.22558594e-01,\n",
       "        -2.55126953e-02, -3.08593750e-01,  9.13085938e-02,\n",
       "         1.60156250e-01,  1.70898438e-01,  1.19628906e-01,\n",
       "         7.08007812e-02, -2.64892578e-02, -3.08837891e-02,\n",
       "         4.06250000e-01, -1.01562500e-01,  5.71289062e-02,\n",
       "        -7.26318359e-03, -9.17968750e-02, -1.50390625e-01,\n",
       "        -2.55859375e-01,  2.16796875e-01, -3.63769531e-02,\n",
       "         2.24609375e-01,  8.00781250e-02,  1.56250000e-01,\n",
       "         5.27343750e-02,  1.50390625e-01, -1.14746094e-01,\n",
       "        -8.64257812e-02,  1.19140625e-01, -7.17773438e-02,\n",
       "         2.73437500e-01, -1.64062500e-01,  7.29370117e-03,\n",
       "         4.21875000e-01, -1.12792969e-01, -1.35742188e-01,\n",
       "        -1.31835938e-01, -1.37695312e-01, -7.66601562e-02,\n",
       "         6.25000000e-02,  4.98046875e-02, -1.91406250e-01,\n",
       "        -6.03027344e-02,  2.27539062e-01,  5.88378906e-02,\n",
       "        -3.24218750e-01,  5.41992188e-02, -1.35742188e-01,\n",
       "         8.17871094e-03, -5.24902344e-02, -1.74713135e-03,\n",
       "        -9.81445312e-02, -2.86865234e-02,  3.61328125e-02,\n",
       "         2.15820312e-01,  5.98144531e-02, -3.08593750e-01,\n",
       "        -2.27539062e-01,  2.61718750e-01,  9.86328125e-02,\n",
       "        -5.07812500e-02,  1.78222656e-02,  1.31835938e-01,\n",
       "        -5.35156250e-01, -1.81640625e-01,  1.38671875e-01,\n",
       "        -3.10546875e-01, -9.71679688e-02,  1.31835938e-01,\n",
       "        -1.16210938e-01,  7.03125000e-02,  2.85156250e-01,\n",
       "         3.51562500e-02, -1.01562500e-01, -3.75976562e-02,\n",
       "         1.41601562e-01,  1.42578125e-01, -5.68847656e-02,\n",
       "         2.65625000e-01, -2.09960938e-01,  9.64355469e-03,\n",
       "        -6.68945312e-02, -4.83398438e-02, -6.10351562e-02,\n",
       "         2.45117188e-01, -9.66796875e-02,  1.78222656e-02,\n",
       "        -1.27929688e-01, -4.78515625e-02, -7.26318359e-03,\n",
       "         1.79687500e-01,  2.78320312e-02, -2.10937500e-01,\n",
       "        -1.43554688e-01, -1.27929688e-01,  1.73339844e-02,\n",
       "        -3.60107422e-03, -2.04101562e-01,  3.63159180e-03,\n",
       "        -1.19628906e-01, -6.15234375e-02,  5.93261719e-02,\n",
       "        -3.23486328e-03, -1.70898438e-01, -3.14941406e-02,\n",
       "        -8.88671875e-02, -2.89062500e-01,  3.44238281e-02,\n",
       "        -1.87500000e-01,  2.94921875e-01,  1.58203125e-01,\n",
       "        -1.19628906e-01,  7.61718750e-02,  6.39648438e-02,\n",
       "        -4.68750000e-02, -6.83593750e-02,  1.21459961e-02,\n",
       "        -1.44531250e-01,  4.54101562e-02,  3.68652344e-02,\n",
       "         3.88671875e-01,  1.45507812e-01, -2.55859375e-01,\n",
       "        -4.46777344e-02, -1.33789062e-01, -1.38671875e-01,\n",
       "         6.59179688e-02,  1.37695312e-01,  1.14746094e-01,\n",
       "         2.03125000e-01, -4.78515625e-02,  1.80664062e-02,\n",
       "        -8.54492188e-02, -2.48046875e-01, -3.39843750e-01,\n",
       "        -2.83203125e-02,  1.05468750e-01, -2.14843750e-01,\n",
       "        -8.74023438e-02,  7.12890625e-02,  1.87500000e-01,\n",
       "        -1.12304688e-01,  2.73437500e-01, -3.26171875e-01,\n",
       "        -1.77734375e-01, -4.24804688e-02, -2.69531250e-01,\n",
       "         6.64062500e-02, -6.88476562e-02, -1.99218750e-01,\n",
       "        -7.03125000e-02, -2.43164062e-01, -3.66210938e-02,\n",
       "        -7.37304688e-02, -1.77734375e-01,  9.17968750e-02,\n",
       "        -1.25000000e-01, -1.65039062e-01, -3.57421875e-01,\n",
       "        -2.85156250e-01, -1.66992188e-01,  1.97265625e-01,\n",
       "        -1.53320312e-01,  2.31933594e-02,  2.06054688e-01,\n",
       "         1.80664062e-01, -2.74658203e-02, -1.92382812e-01,\n",
       "        -9.61914062e-02, -1.06811523e-02, -4.73632812e-02,\n",
       "         6.54296875e-02, -1.25732422e-02,  1.78222656e-02,\n",
       "        -8.00781250e-02, -2.59765625e-01,  9.37500000e-02,\n",
       "        -7.81250000e-02,  4.68750000e-02, -2.22167969e-02,\n",
       "         1.86767578e-02,  3.11279297e-02,  1.04980469e-02,\n",
       "        -1.69921875e-01,  2.58789062e-02, -3.41796875e-02,\n",
       "        -1.44042969e-02, -5.46875000e-02, -8.78906250e-02,\n",
       "         1.96838379e-03,  2.23632812e-01, -1.36718750e-01,\n",
       "         1.75781250e-01, -1.63085938e-01,  1.87500000e-01,\n",
       "         3.44238281e-02, -5.63964844e-02, -2.27689743e-05,\n",
       "         4.27246094e-02,  5.81054688e-02, -1.07910156e-01,\n",
       "        -3.88183594e-02, -2.69531250e-01,  3.34472656e-02,\n",
       "         9.81445312e-02,  5.63964844e-02,  2.23632812e-01,\n",
       "        -5.49316406e-02,  1.46484375e-01,  5.93261719e-02,\n",
       "        -2.19726562e-01,  6.39648438e-02,  1.66015625e-02,\n",
       "         4.56542969e-02,  3.26171875e-01, -3.80859375e-01,\n",
       "         1.70898438e-01,  5.66406250e-02, -1.04492188e-01,\n",
       "         1.38671875e-01, -1.57226562e-01,  3.23486328e-03,\n",
       "        -4.80957031e-02, -2.48046875e-01, -6.20117188e-02]], dtype=float32)"
      ]
     },
     "execution_count": 3,
     "metadata": {},
     "output_type": "execute_result"
    }
   ],
   "source": [
    "w2v[[\"program\", \"computer\"]]"
   ]
  },
  {
   "cell_type": "markdown",
   "id": "9bb58967",
   "metadata": {
    "id": "9bb58967"
   },
   "source": [
    "## Reading our csv"
   ]
  },
  {
   "cell_type": "code",
   "execution_count": 4,
   "id": "394c7e8b",
   "metadata": {
    "id": "394c7e8b"
   },
   "outputs": [
    {
     "name": "stdout",
     "output_type": "stream",
     "text": [
      "(5452, 3)\n",
      "(500, 3)\n"
     ]
    }
   ],
   "source": [
    "train = pd.read_csv(\"train.csv\")\n",
    "test = pd.read_csv(\"test.csv\")\n",
    "\n",
    "print(train.shape)\n",
    "print(test.shape)"
   ]
  },
  {
   "cell_type": "markdown",
   "id": "bd89dad0",
   "metadata": {
    "id": "bd89dad0"
   },
   "source": [
    "## Dropping label-fine"
   ]
  },
  {
   "cell_type": "code",
   "execution_count": 5,
   "id": "79bd3fb7",
   "metadata": {
    "id": "79bd3fb7"
   },
   "outputs": [],
   "source": [
    "train = train.drop(\"label-fine\", axis=1)\n",
    "test = test.drop(\"label-fine\", axis=1)"
   ]
  },
  {
   "cell_type": "code",
   "execution_count": 6,
   "id": "578afe46",
   "metadata": {
    "id": "578afe46"
   },
   "outputs": [
    {
     "data": {
      "text/html": [
       "<div>\n",
       "<style scoped>\n",
       "    .dataframe tbody tr th:only-of-type {\n",
       "        vertical-align: middle;\n",
       "    }\n",
       "\n",
       "    .dataframe tbody tr th {\n",
       "        vertical-align: top;\n",
       "    }\n",
       "\n",
       "    .dataframe thead th {\n",
       "        text-align: right;\n",
       "    }\n",
       "</style>\n",
       "<table border=\"1\" class=\"dataframe\">\n",
       "  <thead>\n",
       "    <tr style=\"text-align: right;\">\n",
       "      <th></th>\n",
       "      <th>label-coarse</th>\n",
       "      <th>text</th>\n",
       "    </tr>\n",
       "  </thead>\n",
       "  <tbody>\n",
       "    <tr>\n",
       "      <th>0</th>\n",
       "      <td>0</td>\n",
       "      <td>How did serfdom develop in and then leave Russ...</td>\n",
       "    </tr>\n",
       "    <tr>\n",
       "      <th>1</th>\n",
       "      <td>1</td>\n",
       "      <td>What films featured the character Popeye Doyle ?</td>\n",
       "    </tr>\n",
       "    <tr>\n",
       "      <th>2</th>\n",
       "      <td>0</td>\n",
       "      <td>How can I find a list of celebrities ' real na...</td>\n",
       "    </tr>\n",
       "    <tr>\n",
       "      <th>3</th>\n",
       "      <td>1</td>\n",
       "      <td>What fowl grabs the spotlight after the Chines...</td>\n",
       "    </tr>\n",
       "    <tr>\n",
       "      <th>4</th>\n",
       "      <td>2</td>\n",
       "      <td>What is the full form of .com ?</td>\n",
       "    </tr>\n",
       "  </tbody>\n",
       "</table>\n",
       "</div>"
      ],
      "text/plain": [
       "   label-coarse                                               text\n",
       "0             0  How did serfdom develop in and then leave Russ...\n",
       "1             1   What films featured the character Popeye Doyle ?\n",
       "2             0  How can I find a list of celebrities ' real na...\n",
       "3             1  What fowl grabs the spotlight after the Chines...\n",
       "4             2                    What is the full form of .com ?"
      ]
     },
     "execution_count": 6,
     "metadata": {},
     "output_type": "execute_result"
    }
   ],
   "source": [
    "train.head()"
   ]
  },
  {
   "cell_type": "code",
   "execution_count": 7,
   "id": "281ba7ef",
   "metadata": {
    "id": "281ba7ef"
   },
   "outputs": [
    {
     "data": {
      "text/html": [
       "<div>\n",
       "<style scoped>\n",
       "    .dataframe tbody tr th:only-of-type {\n",
       "        vertical-align: middle;\n",
       "    }\n",
       "\n",
       "    .dataframe tbody tr th {\n",
       "        vertical-align: top;\n",
       "    }\n",
       "\n",
       "    .dataframe thead th {\n",
       "        text-align: right;\n",
       "    }\n",
       "</style>\n",
       "<table border=\"1\" class=\"dataframe\">\n",
       "  <thead>\n",
       "    <tr style=\"text-align: right;\">\n",
       "      <th></th>\n",
       "      <th>label-coarse</th>\n",
       "      <th>text</th>\n",
       "    </tr>\n",
       "  </thead>\n",
       "  <tbody>\n",
       "    <tr>\n",
       "      <th>0</th>\n",
       "      <td>4</td>\n",
       "      <td>How far is it from Denver to Aspen ?</td>\n",
       "    </tr>\n",
       "    <tr>\n",
       "      <th>1</th>\n",
       "      <td>5</td>\n",
       "      <td>What county is Modesto , California in ?</td>\n",
       "    </tr>\n",
       "    <tr>\n",
       "      <th>2</th>\n",
       "      <td>3</td>\n",
       "      <td>Who was Galileo ?</td>\n",
       "    </tr>\n",
       "    <tr>\n",
       "      <th>3</th>\n",
       "      <td>0</td>\n",
       "      <td>What is an atom ?</td>\n",
       "    </tr>\n",
       "    <tr>\n",
       "      <th>4</th>\n",
       "      <td>4</td>\n",
       "      <td>When did Hawaii become a state ?</td>\n",
       "    </tr>\n",
       "  </tbody>\n",
       "</table>\n",
       "</div>"
      ],
      "text/plain": [
       "   label-coarse                                      text\n",
       "0             4      How far is it from Denver to Aspen ?\n",
       "1             5  What county is Modesto , California in ?\n",
       "2             3                         Who was Galileo ?\n",
       "3             0                         What is an atom ?\n",
       "4             4          When did Hawaii become a state ?"
      ]
     },
     "execution_count": 7,
     "metadata": {},
     "output_type": "execute_result"
    }
   ],
   "source": [
    "test.head()"
   ]
  },
  {
   "cell_type": "markdown",
   "id": "381806d1",
   "metadata": {
    "id": "381806d1"
   },
   "source": [
    "### Converting our labels into strings for easier processing"
   ]
  },
  {
   "cell_type": "code",
   "execution_count": 8,
   "id": "5d2561fd",
   "metadata": {
    "id": "5d2561fd"
   },
   "outputs": [],
   "source": [
    "train[\"label-coarse\"] = train[\"label-coarse\"].astype(str)\n",
    "test[\"label-coarse\"] = test[\"label-coarse\"].astype(str)"
   ]
  },
  {
   "cell_type": "markdown",
   "id": "91a6efe0",
   "metadata": {
    "id": "91a6efe0"
   },
   "source": [
    "## Obtaining our development set"
   ]
  },
  {
   "cell_type": "code",
   "execution_count": 9,
   "id": "07e27356",
   "metadata": {
    "id": "07e27356"
   },
   "outputs": [
    {
     "data": {
      "text/html": [
       "<div>\n",
       "<style scoped>\n",
       "    .dataframe tbody tr th:only-of-type {\n",
       "        vertical-align: middle;\n",
       "    }\n",
       "\n",
       "    .dataframe tbody tr th {\n",
       "        vertical-align: top;\n",
       "    }\n",
       "\n",
       "    .dataframe thead th {\n",
       "        text-align: right;\n",
       "    }\n",
       "</style>\n",
       "<table border=\"1\" class=\"dataframe\">\n",
       "  <thead>\n",
       "    <tr style=\"text-align: right;\">\n",
       "      <th></th>\n",
       "      <th>label-coarse</th>\n",
       "      <th>text</th>\n",
       "    </tr>\n",
       "  </thead>\n",
       "  <tbody>\n",
       "    <tr>\n",
       "      <th>0</th>\n",
       "      <td>3</td>\n",
       "      <td>Who is Count Cinzano ?</td>\n",
       "    </tr>\n",
       "    <tr>\n",
       "      <th>1</th>\n",
       "      <td>0</td>\n",
       "      <td>How do Ouija Boards work ?</td>\n",
       "    </tr>\n",
       "    <tr>\n",
       "      <th>2</th>\n",
       "      <td>4</td>\n",
       "      <td>At what age did Rossini stop writing opera ?</td>\n",
       "    </tr>\n",
       "    <tr>\n",
       "      <th>3</th>\n",
       "      <td>5</td>\n",
       "      <td>What New England state covers 5.9 square miles ?</td>\n",
       "    </tr>\n",
       "    <tr>\n",
       "      <th>4</th>\n",
       "      <td>5</td>\n",
       "      <td>What city has the world 's longest subway syst...</td>\n",
       "    </tr>\n",
       "    <tr>\n",
       "      <th>...</th>\n",
       "      <td>...</td>\n",
       "      <td>...</td>\n",
       "    </tr>\n",
       "    <tr>\n",
       "      <th>495</th>\n",
       "      <td>3</td>\n",
       "      <td>Who invented television ?</td>\n",
       "    </tr>\n",
       "    <tr>\n",
       "      <th>496</th>\n",
       "      <td>5</td>\n",
       "      <td>What country has been called The Queen of the ...</td>\n",
       "    </tr>\n",
       "    <tr>\n",
       "      <th>497</th>\n",
       "      <td>1</td>\n",
       "      <td>What did Benny Carter play ?</td>\n",
       "    </tr>\n",
       "    <tr>\n",
       "      <th>498</th>\n",
       "      <td>4</td>\n",
       "      <td>What is the estimated total U.S. whitetail dee...</td>\n",
       "    </tr>\n",
       "    <tr>\n",
       "      <th>499</th>\n",
       "      <td>1</td>\n",
       "      <td>What species is a colt ?</td>\n",
       "    </tr>\n",
       "  </tbody>\n",
       "</table>\n",
       "<p>500 rows × 2 columns</p>\n",
       "</div>"
      ],
      "text/plain": [
       "    label-coarse                                               text\n",
       "0              3                             Who is Count Cinzano ?\n",
       "1              0                         How do Ouija Boards work ?\n",
       "2              4       At what age did Rossini stop writing opera ?\n",
       "3              5   What New England state covers 5.9 square miles ?\n",
       "4              5  What city has the world 's longest subway syst...\n",
       "..           ...                                                ...\n",
       "495            3                          Who invented television ?\n",
       "496            5  What country has been called The Queen of the ...\n",
       "497            1                       What did Benny Carter play ?\n",
       "498            4  What is the estimated total U.S. whitetail dee...\n",
       "499            1                           What species is a colt ?\n",
       "\n",
       "[500 rows x 2 columns]"
      ]
     },
     "execution_count": 9,
     "metadata": {},
     "output_type": "execute_result"
    }
   ],
   "source": [
    "dev = train.sample(500, random_state=1)\n",
    "dev = dev.reset_index(drop=True)  #reset index so that it starts from 0\n",
    "dev"
   ]
  },
  {
   "cell_type": "markdown",
   "id": "d75d0dd4",
   "metadata": {
    "id": "d75d0dd4"
   },
   "source": [
    "## Removing the subset from our train"
   ]
  },
  {
   "cell_type": "code",
   "execution_count": 10,
   "id": "c6738a3b",
   "metadata": {
    "id": "c6738a3b"
   },
   "outputs": [],
   "source": [
    "train = train.drop(index=list(dev.index))\n",
    "train = train.reset_index(drop=True) #reset index so that it starts from 0"
   ]
  },
  {
   "cell_type": "markdown",
   "id": "165a6eb2",
   "metadata": {
    "id": "165a6eb2"
   },
   "source": [
    "## Final shape of our 3 df"
   ]
  },
  {
   "cell_type": "code",
   "execution_count": 11,
   "id": "b727e4a4",
   "metadata": {
    "id": "b727e4a4"
   },
   "outputs": [
    {
     "name": "stdout",
     "output_type": "stream",
     "text": [
      "Train shape:\t (4952, 2)\n",
      "Dev shape:\t (500, 2)\n",
      "Test shape:\t (500, 2)\n"
     ]
    }
   ],
   "source": [
    "print(f\"Train shape:\\t {train.shape}\")\n",
    "print(f\"Dev shape:\\t {dev.shape}\")\n",
    "print(f\"Test shape:\\t {test.shape}\")"
   ]
  },
  {
   "cell_type": "markdown",
   "id": "61934eb0",
   "metadata": {
    "id": "61934eb0"
   },
   "source": [
    "# 2a)"
   ]
  },
  {
   "cell_type": "markdown",
   "id": "02a301e4",
   "metadata": {
    "id": "02a301e4"
   },
   "source": [
    "### Randomly selecting 4 course labels, and combining the 2 remaining as \"OTHERS\"\n",
    "From the documentation, the labels are defined as:\n",
    "- 'ABBR' (0): Abbreviation.\n",
    "- 'ENTY' (1): Entity.\n",
    "- 'DESC' (2): Description and abstract concept.\n",
    "- 'HUM' (3): Human being.\n",
    "- 'LOC' (4): Location.\n",
    "- 'NUM' (5): Numeric value."
   ]
  },
  {
   "cell_type": "code",
   "execution_count": 12,
   "id": "0de8cadb",
   "metadata": {
    "id": "0de8cadb"
   },
   "outputs": [
    {
     "data": {
      "text/plain": [
       "array(['2', '1'], dtype='<U1')"
      ]
     },
     "execution_count": 12,
     "metadata": {},
     "output_type": "execute_result"
    }
   ],
   "source": [
    "labels = [\"0\",\"1\",\"2\",\"3\",\"4\",\"5\"]\n",
    "\n",
    "#get our random 2 labels that will be changed to OTHERS\n",
    "np.random.seed(1)\n",
    "twoLabels = np.random.choice(labels, size=2, replace = False)\n",
    "twoLabels"
   ]
  },
  {
   "cell_type": "code",
   "execution_count": 13,
   "id": "ee1d6278",
   "metadata": {
    "id": "ee1d6278",
    "scrolled": false
   },
   "outputs": [],
   "source": [
    "train = train.replace(to_replace=twoLabels, value=\"OTHERS\")\n",
    "test = test.replace(to_replace=twoLabels, value=\"OTHERS\")\n",
    "dev = dev.replace(to_replace=twoLabels, value=\"OTHERS\")"
   ]
  },
  {
   "cell_type": "code",
   "execution_count": 14,
   "id": "e9c92fae",
   "metadata": {
    "id": "e9c92fae",
    "scrolled": true
   },
   "outputs": [
    {
     "name": "stdout",
     "output_type": "stream",
     "text": [
      "5\n",
      "['4' '3' '5' 'OTHERS' '0']\n"
     ]
    }
   ],
   "source": [
    "print(train[\"label-coarse\"].nunique())\n",
    "print(train[\"label-coarse\"].unique())"
   ]
  },
  {
   "cell_type": "markdown",
   "id": "d5f55934",
   "metadata": {
    "id": "d5f55934"
   },
   "source": [
    "---\n",
    "The final 5 classes that we are using are:\n",
    "- OTHERS\n",
    "- 0\n",
    "- 3\n",
    "- 4\n",
    "- 5\n",
    "---"
   ]
  },
  {
   "cell_type": "markdown",
   "id": "41049f15",
   "metadata": {
    "id": "41049f15"
   },
   "source": [
    "### Encoding the labels with LabelEncoder for the model to train"
   ]
  },
  {
   "cell_type": "code",
   "execution_count": 15,
   "id": "bb65ed7a",
   "metadata": {
    "id": "bb65ed7a"
   },
   "outputs": [],
   "source": [
    "from sklearn.preprocessing import LabelEncoder\n",
    "label_encoder = LabelEncoder()\n",
    "\n",
    "train[\"label-coarse\"] = label_encoder.fit_transform(train[\"label-coarse\"].values)\n",
    "test[\"label-coarse\"] = label_encoder.transform(test[\"label-coarse\"].values)\n",
    "dev[\"label-coarse\"] = label_encoder.transform(dev[\"label-coarse\"].values)"
   ]
  },
  {
   "cell_type": "markdown",
   "id": "a10499b5",
   "metadata": {
    "id": "a10499b5"
   },
   "source": [
    "## Further exploring the df"
   ]
  },
  {
   "cell_type": "code",
   "execution_count": 16,
   "id": "525a40a1",
   "metadata": {
    "id": "525a40a1"
   },
   "outputs": [
    {
     "data": {
      "text/html": [
       "<div>\n",
       "<style scoped>\n",
       "    .dataframe tbody tr th:only-of-type {\n",
       "        vertical-align: middle;\n",
       "    }\n",
       "\n",
       "    .dataframe tbody tr th {\n",
       "        vertical-align: top;\n",
       "    }\n",
       "\n",
       "    .dataframe thead th {\n",
       "        text-align: right;\n",
       "    }\n",
       "</style>\n",
       "<table border=\"1\" class=\"dataframe\">\n",
       "  <thead>\n",
       "    <tr style=\"text-align: right;\">\n",
       "      <th></th>\n",
       "      <th>label-coarse</th>\n",
       "      <th>text</th>\n",
       "    </tr>\n",
       "  </thead>\n",
       "  <tbody>\n",
       "    <tr>\n",
       "      <th>0</th>\n",
       "      <td>2</td>\n",
       "      <td>How long does it take for Spider-Man 's web to...</td>\n",
       "    </tr>\n",
       "    <tr>\n",
       "      <th>1</th>\n",
       "      <td>1</td>\n",
       "      <td>Who was Randy Steven Craft 's lawyer ?</td>\n",
       "    </tr>\n",
       "    <tr>\n",
       "      <th>2</th>\n",
       "      <td>3</td>\n",
       "      <td>What was known as the Spice Island ?</td>\n",
       "    </tr>\n",
       "    <tr>\n",
       "      <th>3</th>\n",
       "      <td>1</td>\n",
       "      <td>Who was the first host of Person to Person ?</td>\n",
       "    </tr>\n",
       "    <tr>\n",
       "      <th>4</th>\n",
       "      <td>1</td>\n",
       "      <td>Name the Ranger who was always after Yogi Bear .</td>\n",
       "    </tr>\n",
       "  </tbody>\n",
       "</table>\n",
       "</div>"
      ],
      "text/plain": [
       "   label-coarse                                               text\n",
       "0             2  How long does it take for Spider-Man 's web to...\n",
       "1             1             Who was Randy Steven Craft 's lawyer ?\n",
       "2             3               What was known as the Spice Island ?\n",
       "3             1       Who was the first host of Person to Person ?\n",
       "4             1   Name the Ranger who was always after Yogi Bear ."
      ]
     },
     "execution_count": 16,
     "metadata": {},
     "output_type": "execute_result"
    }
   ],
   "source": [
    "train.head()"
   ]
  },
  {
   "cell_type": "code",
   "execution_count": 17,
   "id": "2f5513cf",
   "metadata": {
    "id": "2f5513cf",
    "scrolled": true
   },
   "outputs": [
    {
     "name": "stdout",
     "output_type": "stream",
     "text": [
      "How long does it take for Spider-Man 's web to evaporate ?\n",
      "<class 'str'>\n"
     ]
    }
   ],
   "source": [
    "test_sentence = train[\"text\"][0]\n",
    "print(test_sentence)\n",
    "print(type(test_sentence))"
   ]
  },
  {
   "cell_type": "code",
   "execution_count": 18,
   "id": "71aa2f0e",
   "metadata": {
    "id": "71aa2f0e"
   },
   "outputs": [
    {
     "data": {
      "text/plain": [
       "['How',\n",
       " 'long',\n",
       " 'does',\n",
       " 'it',\n",
       " 'take',\n",
       " 'for',\n",
       " 'Spider-Man',\n",
       " \"'s\",\n",
       " 'web',\n",
       " 'to',\n",
       " 'evaporate',\n",
       " '?']"
      ]
     },
     "execution_count": 18,
     "metadata": {},
     "output_type": "execute_result"
    }
   ],
   "source": [
    "sentence_list = test_sentence.split(\" \")\n",
    "sentence_list"
   ]
  },
  {
   "cell_type": "markdown",
   "id": "aa8caee3",
   "metadata": {
    "id": "aa8caee3"
   },
   "source": [
    "- We have to figure out how would w2v handle words not in its vocab\n",
    "- \"?\" is not in its vocab, but it can be easily handled by removing it from every sentence"
   ]
  },
  {
   "cell_type": "markdown",
   "id": "12e5ac59",
   "metadata": {
    "id": "12e5ac59"
   },
   "source": [
    "## How will we handle out of vocab words when using w2v?"
   ]
  },
  {
   "cell_type": "markdown",
   "id": "ef870d4d",
   "metadata": {
    "id": "ef870d4d"
   },
   "source": [
    "- Possibly 0 vector (this means we can just pass over that word)"
   ]
  },
  {
   "cell_type": "markdown",
   "id": "723a56dc",
   "metadata": {
    "id": "723a56dc"
   },
   "source": [
    "## Aggregation method exploration\n",
    "- max pooling\n",
    "- mean pooling\n",
    "- summation\n",
    "- RNN: taking representation of last word\n"
   ]
  },
  {
   "cell_type": "markdown",
   "id": "a5fff617",
   "metadata": {
    "id": "a5fff617"
   },
   "source": [
    "## Preparing our data"
   ]
  },
  {
   "cell_type": "code",
   "execution_count": 19,
   "id": "63ccd19d",
   "metadata": {
    "id": "63ccd19d"
   },
   "outputs": [
    {
     "name": "stderr",
     "output_type": "stream",
     "text": [
      "[nltk_data] Downloading package punkt to\n",
      "[nltk_data]     C:\\Users\\ASUS\\AppData\\Roaming\\nltk_data...\n",
      "[nltk_data]   Package punkt is already up-to-date!\n"
     ]
    },
    {
     "data": {
      "text/plain": [
       "True"
      ]
     },
     "execution_count": 19,
     "metadata": {},
     "output_type": "execute_result"
    }
   ],
   "source": [
    "import nltk\n",
    "nltk.download('punkt')"
   ]
  },
  {
   "cell_type": "code",
   "execution_count": 20,
   "id": "f6d2dae0",
   "metadata": {
    "id": "f6d2dae0"
   },
   "outputs": [],
   "source": [
    "#this function will help us to tokenize the text into individual tokens\n",
    "def tokenizeText(df):\n",
    "\n",
    "    #duplicating the df\n",
    "    copy = df.copy(deep=True)\n",
    "    copy = copy.reset_index(drop=True)\n",
    "\n",
    "    copy[\"tokenized_text\"] = copy[\"text\"].apply(nltk.word_tokenize)\n",
    "    return copy"
   ]
  },
  {
   "cell_type": "markdown",
   "id": "60f3c315",
   "metadata": {
    "id": "60f3c315"
   },
   "source": [
    "## Tokenizing the tex of our train, dev, test df"
   ]
  },
  {
   "cell_type": "markdown",
   "id": "199197da",
   "metadata": {
    "id": "199197da"
   },
   "source": [
    "---\n",
    "This is what our current df looks like"
   ]
  },
  {
   "cell_type": "code",
   "execution_count": 21,
   "id": "9d200dc0",
   "metadata": {
    "id": "9d200dc0",
    "scrolled": true
   },
   "outputs": [
    {
     "data": {
      "text/html": [
       "<div>\n",
       "<style scoped>\n",
       "    .dataframe tbody tr th:only-of-type {\n",
       "        vertical-align: middle;\n",
       "    }\n",
       "\n",
       "    .dataframe tbody tr th {\n",
       "        vertical-align: top;\n",
       "    }\n",
       "\n",
       "    .dataframe thead th {\n",
       "        text-align: right;\n",
       "    }\n",
       "</style>\n",
       "<table border=\"1\" class=\"dataframe\">\n",
       "  <thead>\n",
       "    <tr style=\"text-align: right;\">\n",
       "      <th></th>\n",
       "      <th>label-coarse</th>\n",
       "      <th>text</th>\n",
       "    </tr>\n",
       "  </thead>\n",
       "  <tbody>\n",
       "    <tr>\n",
       "      <th>0</th>\n",
       "      <td>2</td>\n",
       "      <td>How long does it take for Spider-Man 's web to...</td>\n",
       "    </tr>\n",
       "    <tr>\n",
       "      <th>1</th>\n",
       "      <td>1</td>\n",
       "      <td>Who was Randy Steven Craft 's lawyer ?</td>\n",
       "    </tr>\n",
       "    <tr>\n",
       "      <th>2</th>\n",
       "      <td>3</td>\n",
       "      <td>What was known as the Spice Island ?</td>\n",
       "    </tr>\n",
       "    <tr>\n",
       "      <th>3</th>\n",
       "      <td>1</td>\n",
       "      <td>Who was the first host of Person to Person ?</td>\n",
       "    </tr>\n",
       "    <tr>\n",
       "      <th>4</th>\n",
       "      <td>1</td>\n",
       "      <td>Name the Ranger who was always after Yogi Bear .</td>\n",
       "    </tr>\n",
       "  </tbody>\n",
       "</table>\n",
       "</div>"
      ],
      "text/plain": [
       "   label-coarse                                               text\n",
       "0             2  How long does it take for Spider-Man 's web to...\n",
       "1             1             Who was Randy Steven Craft 's lawyer ?\n",
       "2             3               What was known as the Spice Island ?\n",
       "3             1       Who was the first host of Person to Person ?\n",
       "4             1   Name the Ranger who was always after Yogi Bear ."
      ]
     },
     "execution_count": 21,
     "metadata": {},
     "output_type": "execute_result"
    }
   ],
   "source": [
    "train.head()"
   ]
  },
  {
   "cell_type": "markdown",
   "id": "2934f9db",
   "metadata": {
    "id": "2934f9db"
   },
   "source": [
    "---\n",
    "This is what it looks like after aggregation"
   ]
  },
  {
   "cell_type": "code",
   "execution_count": 22,
   "id": "10ea2dc4",
   "metadata": {
    "id": "10ea2dc4",
    "scrolled": false
   },
   "outputs": [],
   "source": [
    "train_tokenized = tokenizeText(train)\n",
    "dev_tokenized = tokenizeText(dev)\n",
    "test_tokenized = tokenizeText(test)"
   ]
  },
  {
   "cell_type": "code",
   "execution_count": 23,
   "id": "fd97a331",
   "metadata": {
    "id": "fd97a331",
    "scrolled": false
   },
   "outputs": [
    {
     "data": {
      "text/html": [
       "<div>\n",
       "<style scoped>\n",
       "    .dataframe tbody tr th:only-of-type {\n",
       "        vertical-align: middle;\n",
       "    }\n",
       "\n",
       "    .dataframe tbody tr th {\n",
       "        vertical-align: top;\n",
       "    }\n",
       "\n",
       "    .dataframe thead th {\n",
       "        text-align: right;\n",
       "    }\n",
       "</style>\n",
       "<table border=\"1\" class=\"dataframe\">\n",
       "  <thead>\n",
       "    <tr style=\"text-align: right;\">\n",
       "      <th></th>\n",
       "      <th>label-coarse</th>\n",
       "      <th>text</th>\n",
       "      <th>tokenized_text</th>\n",
       "    </tr>\n",
       "  </thead>\n",
       "  <tbody>\n",
       "    <tr>\n",
       "      <th>0</th>\n",
       "      <td>2</td>\n",
       "      <td>How long does it take for Spider-Man 's web to...</td>\n",
       "      <td>[How, long, does, it, take, for, Spider-Man, '...</td>\n",
       "    </tr>\n",
       "    <tr>\n",
       "      <th>1</th>\n",
       "      <td>1</td>\n",
       "      <td>Who was Randy Steven Craft 's lawyer ?</td>\n",
       "      <td>[Who, was, Randy, Steven, Craft, 's, lawyer, ?]</td>\n",
       "    </tr>\n",
       "    <tr>\n",
       "      <th>2</th>\n",
       "      <td>3</td>\n",
       "      <td>What was known as the Spice Island ?</td>\n",
       "      <td>[What, was, known, as, the, Spice, Island, ?]</td>\n",
       "    </tr>\n",
       "    <tr>\n",
       "      <th>3</th>\n",
       "      <td>1</td>\n",
       "      <td>Who was the first host of Person to Person ?</td>\n",
       "      <td>[Who, was, the, first, host, of, Person, to, P...</td>\n",
       "    </tr>\n",
       "    <tr>\n",
       "      <th>4</th>\n",
       "      <td>1</td>\n",
       "      <td>Name the Ranger who was always after Yogi Bear .</td>\n",
       "      <td>[Name, the, Ranger, who, was, always, after, Y...</td>\n",
       "    </tr>\n",
       "  </tbody>\n",
       "</table>\n",
       "</div>"
      ],
      "text/plain": [
       "   label-coarse                                               text  \\\n",
       "0             2  How long does it take for Spider-Man 's web to...   \n",
       "1             1             Who was Randy Steven Craft 's lawyer ?   \n",
       "2             3               What was known as the Spice Island ?   \n",
       "3             1       Who was the first host of Person to Person ?   \n",
       "4             1   Name the Ranger who was always after Yogi Bear .   \n",
       "\n",
       "                                      tokenized_text  \n",
       "0  [How, long, does, it, take, for, Spider-Man, '...  \n",
       "1    [Who, was, Randy, Steven, Craft, 's, lawyer, ?]  \n",
       "2      [What, was, known, as, the, Spice, Island, ?]  \n",
       "3  [Who, was, the, first, host, of, Person, to, P...  \n",
       "4  [Name, the, Ranger, who, was, always, after, Y...  "
      ]
     },
     "execution_count": 23,
     "metadata": {},
     "output_type": "execute_result"
    }
   ],
   "source": [
    "train_tokenized.head()"
   ]
  },
  {
   "cell_type": "markdown",
   "id": "459083f4",
   "metadata": {
    "id": "459083f4"
   },
   "source": [
    "## Converting our list of tokenized text into its respective word embeddings using word2vec\n",
    "\n",
    "- For those words without a valid embedding from w2v pretrained model, we will be tackling them by using a 0 vector of shape (300, )"
   ]
  },
  {
   "cell_type": "code",
   "execution_count": 24,
   "id": "e1b08ef3",
   "metadata": {
    "id": "e1b08ef3"
   },
   "outputs": [
    {
     "data": {
      "text/plain": [
       "(300,)"
      ]
     },
     "execution_count": 24,
     "metadata": {},
     "output_type": "execute_result"
    }
   ],
   "source": [
    "zero_vector = np.zeros(300)\n",
    "zero_vector.shape"
   ]
  },
  {
   "cell_type": "code",
   "execution_count": 25,
   "id": "23fce506",
   "metadata": {
    "id": "23fce506"
   },
   "outputs": [],
   "source": [
    "def embed(df):\n",
    "    #duplicating the df\n",
    "    copy = df.copy(deep=True)\n",
    "    copy = copy.reset_index(drop=True)\n",
    "\n",
    "    #this list will store all the lists of word embeddings of all sentences\n",
    "    embedded_col = []\n",
    "\n",
    "    #for each row\n",
    "    for i in range(len(df)):\n",
    "\n",
    "        #this list will store all word embeddings in 1 sentence\n",
    "        embedded_text_list = []\n",
    "\n",
    "        #for each word in the tokenized_text list\n",
    "        for j in df[\"tokenized_text\"][i]:\n",
    "            try:\n",
    "                #embed the word into its respective vector\n",
    "                v = w2v[j]\n",
    "\n",
    "                #append the vector to a list\n",
    "                embedded_text_list.append(v)\n",
    "\n",
    "            #we encounter a OOV word\n",
    "            except:\n",
    "                embedded_text_list.append(zero_vector)\n",
    "\n",
    "        embedded_col.append(embedded_text_list)\n",
    "\n",
    "\n",
    "    copy[\"embedded_text\"] = embedded_col\n",
    "    return copy"
   ]
  },
  {
   "cell_type": "code",
   "execution_count": 26,
   "id": "7c354f45",
   "metadata": {
    "id": "7c354f45",
    "scrolled": true
   },
   "outputs": [
    {
     "data": {
      "text/html": [
       "<div>\n",
       "<style scoped>\n",
       "    .dataframe tbody tr th:only-of-type {\n",
       "        vertical-align: middle;\n",
       "    }\n",
       "\n",
       "    .dataframe tbody tr th {\n",
       "        vertical-align: top;\n",
       "    }\n",
       "\n",
       "    .dataframe thead th {\n",
       "        text-align: right;\n",
       "    }\n",
       "</style>\n",
       "<table border=\"1\" class=\"dataframe\">\n",
       "  <thead>\n",
       "    <tr style=\"text-align: right;\">\n",
       "      <th></th>\n",
       "      <th>label-coarse</th>\n",
       "      <th>text</th>\n",
       "      <th>tokenized_text</th>\n",
       "      <th>embedded_text</th>\n",
       "    </tr>\n",
       "  </thead>\n",
       "  <tbody>\n",
       "    <tr>\n",
       "      <th>0</th>\n",
       "      <td>2</td>\n",
       "      <td>How long does it take for Spider-Man 's web to...</td>\n",
       "      <td>[How, long, does, it, take, for, Spider-Man, '...</td>\n",
       "      <td>[[0.16015625, 0.21679688, 0.05493164, 0.207031...</td>\n",
       "    </tr>\n",
       "    <tr>\n",
       "      <th>1</th>\n",
       "      <td>1</td>\n",
       "      <td>Who was Randy Steven Craft 's lawyer ?</td>\n",
       "      <td>[Who, was, Randy, Steven, Craft, 's, lawyer, ?]</td>\n",
       "      <td>[[0.052246094, 0.055664062, 0.20898438, 0.3144...</td>\n",
       "    </tr>\n",
       "    <tr>\n",
       "      <th>2</th>\n",
       "      <td>3</td>\n",
       "      <td>What was known as the Spice Island ?</td>\n",
       "      <td>[What, was, known, as, the, Spice, Island, ?]</td>\n",
       "      <td>[[-0.023071289, 0.15332031, 0.15234375, 0.0505...</td>\n",
       "    </tr>\n",
       "    <tr>\n",
       "      <th>3</th>\n",
       "      <td>1</td>\n",
       "      <td>Who was the first host of Person to Person ?</td>\n",
       "      <td>[Who, was, the, first, host, of, Person, to, P...</td>\n",
       "      <td>[[0.052246094, 0.055664062, 0.20898438, 0.3144...</td>\n",
       "    </tr>\n",
       "    <tr>\n",
       "      <th>4</th>\n",
       "      <td>1</td>\n",
       "      <td>Name the Ranger who was always after Yogi Bear .</td>\n",
       "      <td>[Name, the, Ranger, who, was, always, after, Y...</td>\n",
       "      <td>[[0.03930664, -0.15527344, 0.052490234, -0.171...</td>\n",
       "    </tr>\n",
       "  </tbody>\n",
       "</table>\n",
       "</div>"
      ],
      "text/plain": [
       "   label-coarse                                               text  \\\n",
       "0             2  How long does it take for Spider-Man 's web to...   \n",
       "1             1             Who was Randy Steven Craft 's lawyer ?   \n",
       "2             3               What was known as the Spice Island ?   \n",
       "3             1       Who was the first host of Person to Person ?   \n",
       "4             1   Name the Ranger who was always after Yogi Bear .   \n",
       "\n",
       "                                      tokenized_text  \\\n",
       "0  [How, long, does, it, take, for, Spider-Man, '...   \n",
       "1    [Who, was, Randy, Steven, Craft, 's, lawyer, ?]   \n",
       "2      [What, was, known, as, the, Spice, Island, ?]   \n",
       "3  [Who, was, the, first, host, of, Person, to, P...   \n",
       "4  [Name, the, Ranger, who, was, always, after, Y...   \n",
       "\n",
       "                                       embedded_text  \n",
       "0  [[0.16015625, 0.21679688, 0.05493164, 0.207031...  \n",
       "1  [[0.052246094, 0.055664062, 0.20898438, 0.3144...  \n",
       "2  [[-0.023071289, 0.15332031, 0.15234375, 0.0505...  \n",
       "3  [[0.052246094, 0.055664062, 0.20898438, 0.3144...  \n",
       "4  [[0.03930664, -0.15527344, 0.052490234, -0.171...  "
      ]
     },
     "execution_count": 26,
     "metadata": {},
     "output_type": "execute_result"
    }
   ],
   "source": [
    "train_embedded = embed(train_tokenized)\n",
    "dev_embedded = embed(dev_tokenized)\n",
    "test_embedded = embed(test_tokenized)\n",
    "\n",
    "train_embedded.head()"
   ]
  },
  {
   "cell_type": "markdown",
   "id": "0650938e",
   "metadata": {
    "id": "0650938e"
   },
   "source": [
    "#### Ensuring dimensions are correct"
   ]
  },
  {
   "cell_type": "code",
   "execution_count": 27,
   "id": "03578816",
   "metadata": {
    "id": "03578816",
    "scrolled": true
   },
   "outputs": [
    {
     "name": "stdout",
     "output_type": "stream",
     "text": [
      "length of first tokenzied text: 12\n",
      "length of first embedded text: 12\n",
      "shape of first embedded text: (12, 300)\n"
     ]
    }
   ],
   "source": [
    "print(f\"length of first tokenzied text: {len(train_embedded['tokenized_text'][0])}\")\n",
    "\n",
    "print(f\"length of first embedded text: {len(train_embedded['embedded_text'][0])}\")\n",
    "\n",
    "print(f\"shape of first embedded text: {np.shape(train_embedded['embedded_text'][0])}\")"
   ]
  },
  {
   "cell_type": "markdown",
   "id": "18c50162",
   "metadata": {
    "id": "18c50162"
   },
   "source": [
    "---"
   ]
  },
  {
   "cell_type": "markdown",
   "id": "6233cbc2",
   "metadata": {
    "id": "6233cbc2"
   },
   "source": [
    "## Padding Sentences with 0-vectors such that they are the same size as the max words in all sentences"
   ]
  },
  {
   "cell_type": "markdown",
   "id": "4f557d0d",
   "metadata": {
    "id": "4f557d0d"
   },
   "source": [
    "### Finding the longest sentence in the dfs"
   ]
  },
  {
   "cell_type": "markdown",
   "id": "b5afad88",
   "metadata": {
    "id": "b5afad88"
   },
   "source": [
    "1) Train"
   ]
  },
  {
   "cell_type": "code",
   "execution_count": 28,
   "id": "0ceaaebb",
   "metadata": {
    "id": "0ceaaebb"
   },
   "outputs": [
    {
     "name": "stdout",
     "output_type": "stream",
     "text": [
      "Total sentences: 4952\n",
      "Max words in sentences: 37\n"
     ]
    }
   ],
   "source": [
    "train_text_length = []\n",
    "\n",
    "for i in range(len(train_tokenized[\"tokenized_text\"])):\n",
    "    train_text_length.append(len(train_tokenized[\"tokenized_text\"][i]))\n",
    "\n",
    "\n",
    "print(f\"Total sentences: {len(train_text_length)}\")\n",
    "\n",
    "maxTrainWords = max(train_text_length)\n",
    "print(f\"Max words in sentences: {maxTrainWords}\")"
   ]
  },
  {
   "cell_type": "markdown",
   "id": "312897be",
   "metadata": {
    "id": "312897be"
   },
   "source": [
    "2) Dev"
   ]
  },
  {
   "cell_type": "code",
   "execution_count": 29,
   "id": "25fe04bb",
   "metadata": {
    "id": "25fe04bb"
   },
   "outputs": [
    {
     "name": "stdout",
     "output_type": "stream",
     "text": [
      "Total sentences: 500\n",
      "Max words in sentences: 32\n"
     ]
    }
   ],
   "source": [
    "dev_text_length = []\n",
    "\n",
    "for i in range(len(dev_tokenized[\"tokenized_text\"])):\n",
    "    dev_text_length.append(len(dev_tokenized[\"tokenized_text\"][i]))\n",
    "\n",
    "print(f\"Total sentences: {len(dev_text_length)}\")\n",
    "\n",
    "maxDevWords = max(dev_text_length)\n",
    "print(f\"Max words in sentences: {maxDevWords}\")"
   ]
  },
  {
   "cell_type": "markdown",
   "id": "228e081b",
   "metadata": {
    "id": "228e081b"
   },
   "source": [
    "3) Test"
   ]
  },
  {
   "cell_type": "code",
   "execution_count": 30,
   "id": "3728bcae",
   "metadata": {
    "id": "3728bcae"
   },
   "outputs": [
    {
     "name": "stdout",
     "output_type": "stream",
     "text": [
      "Total sentences: 500\n",
      "Max words in sentences: 17\n"
     ]
    }
   ],
   "source": [
    "test_text_length = []\n",
    "\n",
    "for i in range(len(test_tokenized[\"tokenized_text\"])):\n",
    "    test_text_length.append(len(test_tokenized[\"tokenized_text\"][i]))\n",
    "\n",
    "print(f\"Total sentences: {len(test_text_length)}\")\n",
    "\n",
    "maxTestWords = max(test_text_length)\n",
    "print(f\"Max words in sentences: {maxTestWords}\")"
   ]
  },
  {
   "cell_type": "markdown",
   "id": "95256ff4",
   "metadata": {
    "id": "95256ff4"
   },
   "source": [
    "### Start padding"
   ]
  },
  {
   "cell_type": "code",
   "execution_count": 31,
   "id": "5f133c19",
   "metadata": {
    "id": "5f133c19"
   },
   "outputs": [],
   "source": [
    "def padEmbedding(df, maxWords):\n",
    "    #duplicating the df\n",
    "    copy = df.copy(deep=True)\n",
    "    copy = copy.reset_index(drop=True)\n",
    "\n",
    "    padded_embedding = []\n",
    "\n",
    "    for i in range(len(df)):\n",
    "        embedding = copy[\"embedded_text\"][i]\n",
    "        numWords = len(embedding)\n",
    "        numToPad = maxWords - numWords\n",
    "\n",
    "        for i in range(numToPad):\n",
    "            embedding.append(zero_vector)\n",
    "\n",
    "        padded_embedding.append(embedding)\n",
    "\n",
    "    copy[\"padded_embedding\"] = padded_embedding\n",
    "\n",
    "    return copy"
   ]
  },
  {
   "cell_type": "code",
   "execution_count": 32,
   "id": "58576428",
   "metadata": {
    "id": "58576428"
   },
   "outputs": [],
   "source": [
    "train_padded = padEmbedding(train_embedded, maxTrainWords)\n",
    "dev_padded = padEmbedding(dev_embedded, maxDevWords)\n",
    "test_padded = padEmbedding(test_embedded, maxTestWords)"
   ]
  },
  {
   "cell_type": "markdown",
   "id": "ea4c8425",
   "metadata": {
    "id": "ea4c8425"
   },
   "source": [
    "#### Ensuring dimensions are correct"
   ]
  },
  {
   "cell_type": "code",
   "execution_count": 33,
   "id": "078d9054",
   "metadata": {
    "id": "078d9054"
   },
   "outputs": [
    {
     "name": "stdout",
     "output_type": "stream",
     "text": [
      "37\n"
     ]
    },
    {
     "data": {
      "text/plain": [
       "(37, 300)"
      ]
     },
     "execution_count": 33,
     "metadata": {},
     "output_type": "execute_result"
    }
   ],
   "source": [
    "print(maxTrainWords)\n",
    "np.shape(train_padded[\"padded_embedding\"][0])"
   ]
  },
  {
   "cell_type": "markdown",
   "id": "5f6b7c09",
   "metadata": {
    "id": "5f6b7c09"
   },
   "source": [
    "---\n",
    "## Splitting our data into X and y components"
   ]
  },
  {
   "cell_type": "code",
   "execution_count": 34,
   "id": "486c1f59",
   "metadata": {
    "id": "486c1f59"
   },
   "outputs": [],
   "source": [
    "X_train = train_padded[\"padded_embedding\"]\n",
    "y_train = train_padded[\"label-coarse\"]\n",
    "\n",
    "X_dev = dev_padded[\"padded_embedding\"]\n",
    "y_dev = dev_padded[\"label-coarse\"]\n",
    "\n",
    "X_test = test_padded[\"padded_embedding\"]\n",
    "y_test = test_padded[\"label-coarse\"]"
   ]
  },
  {
   "cell_type": "code",
   "execution_count": 35,
   "id": "2122f6fc",
   "metadata": {
    "id": "2122f6fc"
   },
   "outputs": [
    {
     "data": {
      "text/plain": [
       "0    [[0.16015625, 0.21679688, 0.05493164, 0.207031...\n",
       "1    [[0.052246094, 0.055664062, 0.20898438, 0.3144...\n",
       "2    [[-0.023071289, 0.15332031, 0.15234375, 0.0505...\n",
       "3    [[0.052246094, 0.055664062, 0.20898438, 0.3144...\n",
       "4    [[0.03930664, -0.15527344, 0.052490234, -0.171...\n",
       "Name: padded_embedding, dtype: object"
      ]
     },
     "execution_count": 35,
     "metadata": {},
     "output_type": "execute_result"
    }
   ],
   "source": [
    "X_train.head()"
   ]
  },
  {
   "cell_type": "code",
   "execution_count": 36,
   "id": "2327aefe",
   "metadata": {
    "id": "2327aefe"
   },
   "outputs": [
    {
     "data": {
      "text/plain": [
       "0    2\n",
       "1    1\n",
       "2    3\n",
       "3    1\n",
       "4    1\n",
       "Name: label-coarse, dtype: int32"
      ]
     },
     "execution_count": 36,
     "metadata": {},
     "output_type": "execute_result"
    }
   ],
   "source": [
    "y_train.head()"
   ]
  },
  {
   "cell_type": "code",
   "execution_count": 37,
   "id": "s5SDuXOPElXM",
   "metadata": {
    "id": "s5SDuXOPElXM"
   },
   "outputs": [
    {
     "data": {
      "text/plain": [
       "array([2, 1, 3, 4, 0])"
      ]
     },
     "execution_count": 37,
     "metadata": {},
     "output_type": "execute_result"
    }
   ],
   "source": [
    "y_train.unique()"
   ]
  },
  {
   "cell_type": "markdown",
   "id": "mUjgUVQE6-4j",
   "metadata": {
    "id": "mUjgUVQE6-4j"
   },
   "source": [
    "# Feed forward neural network"
   ]
  },
  {
   "cell_type": "markdown",
   "id": "3ad33c0a",
   "metadata": {
    "id": "3ad33c0a"
   },
   "source": [
    "## Preparing our dataloader and converting data to pytorch tensor"
   ]
  },
  {
   "cell_type": "code",
   "execution_count": 38,
   "id": "VWpb0LIk699X",
   "metadata": {
    "id": "VWpb0LIk699X"
   },
   "outputs": [],
   "source": [
    "import torch\n",
    "import torch.nn as nn\n",
    "import torch.optim as optim\n",
    "from torch.utils.data import DataLoader, TensorDataset"
   ]
  },
  {
   "cell_type": "code",
   "execution_count": 39,
   "id": "wT3qP9PA6-Af",
   "metadata": {
    "id": "wT3qP9PA6-Af"
   },
   "outputs": [
    {
     "name": "stderr",
     "output_type": "stream",
     "text": [
      "C:\\Users\\ASUS\\AppData\\Local\\Temp\\ipykernel_24020\\3360179306.py:4: UserWarning: Creating a tensor from a list of numpy.ndarrays is extremely slow. Please consider converting the list to a single numpy.ndarray with numpy.array() before converting to a tensor. (Triggered internally at ..\\torch\\csrc\\utils\\tensor_new.cpp:264.)\n",
      "  X_train_tensor = torch.tensor(X_train, dtype=torch.float32)\n"
     ]
    }
   ],
   "source": [
    "batch_size = 128\n",
    "\n",
    "# Convert data to PyTorch tensors\n",
    "X_train_tensor = torch.tensor(X_train, dtype=torch.float32)\n",
    "y_train_tensor = torch.tensor(y_train, dtype=torch.int64)\n",
    "X_test_tensor = torch.tensor(X_test, dtype=torch.float32)\n",
    "y_test_tensor = torch.tensor(y_test, dtype=torch.int64)\n",
    "X_val_tensor = torch.tensor(X_dev, dtype=torch.float32)\n",
    "y_val_tensor = torch.tensor(y_dev, dtype=torch.int64)\n",
    "\n",
    "# Create data loaders\n",
    "train_dataset = TensorDataset(X_train_tensor, y_train_tensor)\n",
    "train_loader = DataLoader(train_dataset, batch_size=batch_size, shuffle=True)\n",
    "\n",
    "test_dataset = TensorDataset(X_test_tensor, y_test_tensor)\n",
    "test_loader = DataLoader(test_dataset, batch_size=batch_size, shuffle=False)\n",
    "\n",
    "val_dataset = TensorDataset(X_val_tensor, y_val_tensor)\n",
    "val_loader = DataLoader(val_dataset, batch_size=batch_size, shuffle=False)"
   ]
  },
  {
   "cell_type": "markdown",
   "id": "b1de91bf",
   "metadata": {},
   "source": [
    "## Defining the model with 4 hidden layers"
   ]
  },
  {
   "cell_type": "code",
   "execution_count": 40,
   "id": "1Ldza83m6-Dc",
   "metadata": {
    "id": "1Ldza83m6-Dc"
   },
   "outputs": [],
   "source": [
    "class FeedForwardNet(nn.Module):\n",
    "    def __init__(self, input_size, hidden_size1, hidden_size2, hidden_size3, hidden_size4, num_classes):\n",
    "        super(FeedForwardNet, self).__init__()\n",
    "        self.fc1 = nn.Linear(input_size, hidden_size1)\n",
    "        self.relu1 = nn.ReLU()\n",
    "        self.fc2 = nn.Linear(hidden_size1, hidden_size2)\n",
    "        self.relu2 = nn.ReLU()\n",
    "        self.fc3 = nn.Linear(hidden_size2, hidden_size3)\n",
    "        self.relu3 = nn.ReLU()\n",
    "        self.fc4 = nn.Linear(hidden_size3, hidden_size4)\n",
    "        self.relu4 = nn.ReLU()\n",
    "        self.fc5 = nn.Linear(hidden_size4, num_classes)\n",
    "        self.softmax = nn.Softmax(dim=1)\n",
    "\n",
    "    def forward(self, x):\n",
    "        out = self.fc1(x)\n",
    "        out = self.relu1(out)\n",
    "        out = self.fc2(out)\n",
    "        out = self.relu2(out)\n",
    "        out = self.fc3(out)\n",
    "        out = self.relu3(out)\n",
    "        \n",
    "        # Last hidden layer (layer 4)\n",
    "        out = self.fc4(out)  \n",
    "        out = self.relu4(out)\n",
    "        \n",
    "        # Perform mean aggregation along the sequence dimension (dim=1)\n",
    "        out = torch.mean(out, dim=1, keepdim=False)\n",
    "        \n",
    "        # Output layer\n",
    "        out = self.fc5(out)\n",
    "        out = self.softmax(out)\n",
    "        return out"
   ]
  },
  {
   "cell_type": "code",
   "execution_count": 41,
   "id": "o6BZ5h1O6-Gn",
   "metadata": {
    "id": "o6BZ5h1O6-Gn"
   },
   "outputs": [],
   "source": [
    "# Initialize the model\n",
    "input_size = 300  # Size of the word embeddings\n",
    "hidden_size = 256  # Users are able to adjust the number of hidden neurons\n",
    "num_classes = 5\n",
    "model = FeedForwardNet(input_size, hidden_size, hidden_size, hidden_size, hidden_size, num_classes)\n",
    "\n",
    "# Loss function\n",
    "criterion = nn.CrossEntropyLoss()\n",
    "\n",
    "# Optimizer\n",
    "optimizer = optim.Adam(model.parameters(), lr=0.001)"
   ]
  },
  {
   "cell_type": "markdown",
   "id": "9a86ddda",
   "metadata": {},
   "source": [
    "## Training the model"
   ]
  },
  {
   "cell_type": "code",
   "execution_count": 42,
   "id": "YbZeywIN6-Ju",
   "metadata": {
    "id": "YbZeywIN6-Ju",
    "scrolled": true
   },
   "outputs": [],
   "source": [
    "from sklearn.metrics import f1_score\n",
    "def train_model(num_epochs, max_loss, patience, train_model):\n",
    "    train_losses = []  # To store training losses for each epoch\n",
    "    val_losses = []    # To store validation losses for each epoch\n",
    "    val_accuracies = []    # To store validation accuracies for each epoch\n",
    "    predicted_values=[] # To store the predicted values for f1 score calculation\n",
    "    actual_values=[] # To store the actual values for f1 score calculation\n",
    "    best_val_loss = float('inf')\n",
    "    patience_counter = 0\n",
    "    criterion = nn.CrossEntropyLoss() # Loss function\n",
    "    optimizer = optim.Adam(model.parameters(), lr=0.001) # Optimizer\n",
    "    \n",
    "    for epoch in range(num_epochs):\n",
    "        train_model.train()\n",
    "        for batch_X, batch_y in train_loader:\n",
    "            optimizer.zero_grad()\n",
    "            outputs = train_model(batch_X)\n",
    "            # Convert batch_y to long to meet type requirements\n",
    "            batch_y = batch_y.to(torch.long)\n",
    "            loss = criterion(outputs, batch_y)\n",
    "            loss.backward()\n",
    "            optimizer.step()\n",
    "\n",
    "        # Validate the model\n",
    "        train_model.eval()\n",
    "        with torch.no_grad():\n",
    "            correct = 0\n",
    "            correct2=0\n",
    "            total = 0\n",
    "            val_loss=0\n",
    "            for batch_X, batch_y in val_loader:\n",
    "                batch_y = batch_y.float()\n",
    "                batch_y = batch_y.to(torch.long)\n",
    "                outputs = train_model(batch_X)\n",
    "                _, predicted = torch.max(outputs, 1)\n",
    "                total += batch_y.size(0)\n",
    "                correct += (predicted == batch_y).sum().item()\n",
    "                val_loss += criterion(outputs, batch_y).item()\n",
    "                predicted_values.append(predicted)\n",
    "                actual_values.append(batch_y)\n",
    "            flat_actual = torch.cat(actual_values).cpu().numpy()\n",
    "            flat_predicted = torch.cat(predicted_values).cpu().numpy()\n",
    "            f1 = f1_score(flat_actual, flat_predicted, average='weighted')\n",
    "\n",
    "\n",
    "        train_loss = sum(train_losses) / len(train_losses) if train_losses else 0\n",
    "        train_losses.append(loss.item())\n",
    "        val_losses.append(val_loss / len(val_loader))\n",
    "        val_accuracy = 100 * correct / total\n",
    "        val_accuracies.append(val_accuracy)\n",
    "\n",
    "\n",
    "        print(f'Epoch {epoch+1}/{num_epochs}, Train Loss: {train_loss:.4f}, Val Loss: {val_losses[-1]:.4f}, Val Accuracy: {val_accuracy:.2f}%, F1 score: {f1:.2f}')\n",
    "        if val_losses[-1] < best_val_loss:\n",
    "            best_val_loss = val_losses[-1]\n",
    "            patience_counter = 0\n",
    "        else:\n",
    "            patience_counter += 1\n",
    "\n",
    "        if patience_counter >= patience or val_losses[-1] < max_loss:\n",
    "            print(f'Early stopping at epoch {epoch+1} with val loss {val_losses[-1]:.4f}')\n",
    "            import matplotlib.pyplot as plt\n",
    "\n",
    "            # Plot the training and validation losses\n",
    "            plt.figure(figsize=(12, 6))\n",
    "            plt.subplot(1, 2, 1)\n",
    "            plt.plot(train_losses, label='Train Loss')\n",
    "            plt.plot(val_losses, label='Val Loss')\n",
    "            plt.xlabel('Epoch')\n",
    "            plt.ylabel('Loss')\n",
    "            plt.legend()\n",
    "\n",
    "            # Plot the training and validation accuracies\n",
    "            plt.subplot(1, 2, 2)\n",
    "            val_accuracies_normalized = [acc / 100 for acc in val_accuracies]\n",
    "            plt.plot(val_accuracies_normalized, label='Train Accuracy')\n",
    "            plt.xlabel('Epoch')\n",
    "            plt.ylabel('Classification Accuracy')\n",
    "            plt.legend()\n",
    "\n",
    "            plt.tight_layout()\n",
    "            plt.show()\n",
    "            break\n",
    "    return train_model"
   ]
  },
  {
   "cell_type": "code",
   "execution_count": 43,
   "id": "a7dde2b3",
   "metadata": {},
   "outputs": [
    {
     "name": "stdout",
     "output_type": "stream",
     "text": [
      "Epoch 1/100, Train Loss: 0.0000, Val Loss: 1.5738, Val Accuracy: 24.60%, F1 score: 0.10\n",
      "Epoch 2/100, Train Loss: 1.5707, Val Loss: 1.4409, Val Accuracy: 42.20%, F1 score: 0.22\n",
      "Epoch 3/100, Train Loss: 1.5236, Val Loss: 1.3438, Val Accuracy: 56.20%, F1 score: 0.34\n",
      "Epoch 4/100, Train Loss: 1.4877, Val Loss: 1.2713, Val Accuracy: 64.00%, F1 score: 0.42\n",
      "Epoch 5/100, Train Loss: 1.4605, Val Loss: 1.2259, Val Accuracy: 68.00%, F1 score: 0.48\n",
      "Epoch 6/100, Train Loss: 1.4168, Val Loss: 1.1623, Val Accuracy: 74.00%, F1 score: 0.52\n",
      "Epoch 7/100, Train Loss: 1.3793, Val Loss: 1.1481, Val Accuracy: 75.60%, F1 score: 0.56\n",
      "Epoch 8/100, Train Loss: 1.3510, Val Loss: 1.1165, Val Accuracy: 78.80%, F1 score: 0.59\n",
      "Epoch 9/100, Train Loss: 1.3250, Val Loss: 1.1387, Val Accuracy: 76.60%, F1 score: 0.61\n",
      "Epoch 10/100, Train Loss: 1.3015, Val Loss: 1.1079, Val Accuracy: 79.40%, F1 score: 0.63\n",
      "Epoch 11/100, Train Loss: 1.2866, Val Loss: 1.0746, Val Accuracy: 82.60%, F1 score: 0.65\n",
      "Epoch 12/100, Train Loss: 1.2654, Val Loss: 1.1050, Val Accuracy: 79.80%, F1 score: 0.66\n",
      "Epoch 13/100, Train Loss: 1.2538, Val Loss: 1.0822, Val Accuracy: 82.60%, F1 score: 0.68\n",
      "Epoch 14/100, Train Loss: 1.2456, Val Loss: 1.0652, Val Accuracy: 83.80%, F1 score: 0.69\n",
      "Epoch 15/100, Train Loss: 1.2326, Val Loss: 1.0493, Val Accuracy: 85.60%, F1 score: 0.70\n",
      "Epoch 16/100, Train Loss: 1.2215, Val Loss: 1.0388, Val Accuracy: 87.40%, F1 score: 0.71\n",
      "Epoch 17/100, Train Loss: 1.2151, Val Loss: 1.0332, Val Accuracy: 87.80%, F1 score: 0.72\n",
      "Epoch 18/100, Train Loss: 1.2020, Val Loss: 1.0413, Val Accuracy: 87.00%, F1 score: 0.73\n",
      "Epoch 19/100, Train Loss: 1.1895, Val Loss: 1.0218, Val Accuracy: 88.60%, F1 score: 0.74\n",
      "Epoch 20/100, Train Loss: 1.1783, Val Loss: 1.0146, Val Accuracy: 89.20%, F1 score: 0.75\n",
      "Epoch 21/100, Train Loss: 1.1711, Val Loss: 1.0150, Val Accuracy: 89.00%, F1 score: 0.75\n",
      "Epoch 22/100, Train Loss: 1.1637, Val Loss: 1.0117, Val Accuracy: 89.40%, F1 score: 0.76\n",
      "Epoch 23/100, Train Loss: 1.1573, Val Loss: 1.0027, Val Accuracy: 90.20%, F1 score: 0.77\n",
      "Epoch 24/100, Train Loss: 1.1496, Val Loss: 0.9985, Val Accuracy: 90.80%, F1 score: 0.77\n",
      "Epoch 25/100, Train Loss: 1.1450, Val Loss: 0.9945, Val Accuracy: 91.20%, F1 score: 0.78\n",
      "Epoch 26/100, Train Loss: 1.1373, Val Loss: 0.9961, Val Accuracy: 90.80%, F1 score: 0.78\n",
      "Epoch 27/100, Train Loss: 1.1342, Val Loss: 0.9948, Val Accuracy: 91.40%, F1 score: 0.79\n",
      "Epoch 28/100, Train Loss: 1.1296, Val Loss: 0.9928, Val Accuracy: 91.60%, F1 score: 0.79\n",
      "Epoch 29/100, Train Loss: 1.1240, Val Loss: 0.9817, Val Accuracy: 92.60%, F1 score: 0.80\n",
      "Epoch 30/100, Train Loss: 1.1207, Val Loss: 0.9720, Val Accuracy: 93.40%, F1 score: 0.80\n",
      "Epoch 31/100, Train Loss: 1.1159, Val Loss: 0.9806, Val Accuracy: 92.40%, F1 score: 0.81\n",
      "Epoch 32/100, Train Loss: 1.1130, Val Loss: 0.9737, Val Accuracy: 93.20%, F1 score: 0.81\n",
      "Epoch 33/100, Train Loss: 1.1083, Val Loss: 0.9933, Val Accuracy: 91.40%, F1 score: 0.81\n",
      "Epoch 34/100, Train Loss: 1.1069, Val Loss: 0.9747, Val Accuracy: 93.00%, F1 score: 0.82\n",
      "Epoch 35/100, Train Loss: 1.1028, Val Loss: 0.9709, Val Accuracy: 93.40%, F1 score: 0.82\n",
      "Epoch 36/100, Train Loss: 1.0992, Val Loss: 0.9696, Val Accuracy: 93.40%, F1 score: 0.82\n",
      "Epoch 37/100, Train Loss: 1.0960, Val Loss: 0.9726, Val Accuracy: 93.60%, F1 score: 0.83\n",
      "Epoch 38/100, Train Loss: 1.0915, Val Loss: 0.9646, Val Accuracy: 94.00%, F1 score: 0.83\n",
      "Epoch 39/100, Train Loss: 1.0896, Val Loss: 0.9734, Val Accuracy: 93.20%, F1 score: 0.83\n",
      "Epoch 40/100, Train Loss: 1.0866, Val Loss: 0.9651, Val Accuracy: 93.80%, F1 score: 0.83\n",
      "Epoch 41/100, Train Loss: 1.0832, Val Loss: 0.9641, Val Accuracy: 94.00%, F1 score: 0.84\n",
      "Epoch 42/100, Train Loss: 1.0805, Val Loss: 0.9619, Val Accuracy: 94.40%, F1 score: 0.84\n",
      "Epoch 43/100, Train Loss: 1.0784, Val Loss: 0.9642, Val Accuracy: 94.40%, F1 score: 0.84\n",
      "Epoch 44/100, Train Loss: 1.0774, Val Loss: 0.9671, Val Accuracy: 93.80%, F1 score: 0.84\n",
      "Epoch 45/100, Train Loss: 1.0749, Val Loss: 0.9609, Val Accuracy: 94.40%, F1 score: 0.85\n",
      "Epoch 46/100, Train Loss: 1.0723, Val Loss: 0.9656, Val Accuracy: 93.80%, F1 score: 0.85\n",
      "Epoch 47/100, Train Loss: 1.0708, Val Loss: 0.9613, Val Accuracy: 94.20%, F1 score: 0.85\n",
      "Epoch 48/100, Train Loss: 1.0686, Val Loss: 0.9593, Val Accuracy: 94.60%, F1 score: 0.85\n",
      "Epoch 49/100, Train Loss: 1.0669, Val Loss: 0.9579, Val Accuracy: 94.80%, F1 score: 0.85\n",
      "Epoch 50/100, Train Loss: 1.0643, Val Loss: 0.9530, Val Accuracy: 95.40%, F1 score: 0.86\n",
      "Early stopping at epoch 50 with val loss 0.9530\n"
     ]
    },
    {
     "data": {
      "image/png": "[encoded data removed]",
      "text/plain": [
       "<Figure size 1200x600 with 2 Axes>"
      ]
     },
     "metadata": {},
     "output_type": "display_data"
    },
    {
     "name": "stdout",
     "output_type": "stream",
     "text": [
      "Time taken: 226.1418 seconds\n"
     ]
    }
   ],
   "source": [
    "import time\n",
    "\n",
    "# Training the model\n",
    "num_epochs = 100 # Number of epochs to run\n",
    "max_loss=0.955 # The loss value to carry out early stopping\n",
    "start_time = time.time() # Record the start time\n",
    "\n",
    "trained_model=train_model(100, max_loss, 10, model) # Calling the train function\n",
    "\n",
    "end_time = time.time() # Record the end time\n",
    "elapsed_time = end_time - start_time # Calculate the elapsed time\n",
    "print(f\"Time taken: {elapsed_time:.4f} seconds\") # Print the elapsed time"
   ]
  },
  {
   "cell_type": "markdown",
   "id": "475ea095",
   "metadata": {},
   "source": [
    "## Testing the model"
   ]
  },
  {
   "cell_type": "code",
   "execution_count": 44,
   "id": "qBSScIFc6-Ml",
   "metadata": {
    "colab": {
     "base_uri": "https://localhost:8080/"
    },
    "id": "qBSScIFc6-Ml",
    "outputId": "8b147fdc-ef66-4f34-c994-247ebf535789"
   },
   "outputs": [],
   "source": [
    "def testing_model(model):\n",
    "    predicted_values=[] # To store the predicted values for f1 score calculation\n",
    "    actual_values=[] # To store the actual values for f1 score calculation\n",
    "    model.eval()\n",
    "    with torch.no_grad():\n",
    "        correct = 0\n",
    "        total = 0\n",
    "        for batch_X, batch_y in test_loader:\n",
    "            # Making predictions\n",
    "            outputs = model(batch_X)\n",
    "            _, predicted = torch.max(outputs, 1)\n",
    "            total += batch_y.size(0)\n",
    "            correct += (predicted == batch_y).sum().item()\n",
    "            predicted_values.append(predicted)\n",
    "            actual_values.append(batch_y)\n",
    "        flat_actual = torch.cat(actual_values).cpu().numpy()\n",
    "        flat_predicted = torch.cat(predicted_values).cpu().numpy()\n",
    "        f1 = f1_score(flat_actual, flat_predicted, average='weighted')\n",
    "\n",
    "    test_accuracy = 100 * correct / total\n",
    "    print(f'Test Accuracy: {test_accuracy:.2f}%, F1 score: {f1:.2f}')\n"
   ]
  },
  {
   "cell_type": "code",
   "execution_count": 45,
   "id": "f4ba7550",
   "metadata": {},
   "outputs": [
    {
     "name": "stdout",
     "output_type": "stream",
     "text": [
      "Test Accuracy: 73.80%, F1 score: 0.73\n"
     ]
    }
   ],
   "source": [
    "# Testing the model\n",
    "testing_model(trained_model)"
   ]
  },
  {
   "cell_type": "markdown",
   "id": "1a25d609",
   "metadata": {},
   "source": [
    "### The validation accuracy is 77.4% while the test accuracy is only 59.2% This means there may be a case of overfitting. Thus, we will try building a neural network with only 2 hidden layers"
   ]
  },
  {
   "cell_type": "markdown",
   "id": "3bd30192",
   "metadata": {
    "id": "K0E64YUw6-Yp"
   },
   "source": [
    "# Testing model with 2 hidden layers only"
   ]
  },
  {
   "cell_type": "code",
   "execution_count": 46,
   "id": "910ad1d0",
   "metadata": {},
   "outputs": [],
   "source": [
    "class FeedForwardNet2(nn.Module):\n",
    "    def __init__(self, input_size, hidden_size1, hidden_size2, num_classes):\n",
    "        super(FeedForwardNet2, self).__init__()\n",
    "        self.fc1 = nn.Linear(input_size, hidden_size1)\n",
    "        self.relu1 = nn.ReLU()\n",
    "        self.fc2 = nn.Linear(hidden_size1, hidden_size2)\n",
    "        self.relu2 = nn.ReLU()\n",
    "        self.fc3 = nn.Linear(hidden_size2, hidden_size2)\n",
    "        self.relu3 = nn.ReLU()\n",
    "        self.fc4 = nn.Linear(hidden_size2, num_classes)\n",
    "        self.softmax = nn.Softmax(dim=1)\n",
    "\n",
    "    def forward(self, x):\n",
    "        out = self.fc1(x)\n",
    "        out = self.relu1(out)\n",
    "        out = self.fc2(out)\n",
    "        out = self.relu2(out)\n",
    "        out = self.fc3(out)\n",
    "        out = self.relu3(out)\n",
    "        # Perform mean aggregation\n",
    "        out = torch.mean(out, dim=1, keepdim=False)\n",
    "        out = self.fc4(out)\n",
    "        out = self.softmax(out)\n",
    "        return out "
   ]
  },
  {
   "cell_type": "code",
   "execution_count": 47,
   "id": "bcc35108",
   "metadata": {
    "scrolled": true
   },
   "outputs": [
    {
     "name": "stdout",
     "output_type": "stream",
     "text": [
      "Epoch 1/100, Train Loss: 0.0000, Val Loss: 1.6092, Val Accuracy: 24.60%, F1 score: 0.10\n",
      "Epoch 2/100, Train Loss: 1.6095, Val Loss: 1.6092, Val Accuracy: 24.60%, F1 score: 0.10\n",
      "Epoch 3/100, Train Loss: 1.6097, Val Loss: 1.6092, Val Accuracy: 24.60%, F1 score: 0.10\n",
      "Epoch 4/100, Train Loss: 1.6096, Val Loss: 1.6092, Val Accuracy: 24.60%, F1 score: 0.10\n",
      "Epoch 5/100, Train Loss: 1.6096, Val Loss: 1.6092, Val Accuracy: 24.60%, F1 score: 0.10\n",
      "Epoch 6/100, Train Loss: 1.6096, Val Loss: 1.6092, Val Accuracy: 24.60%, F1 score: 0.10\n",
      "Epoch 7/100, Train Loss: 1.6095, Val Loss: 1.6092, Val Accuracy: 24.60%, F1 score: 0.10\n",
      "Epoch 8/100, Train Loss: 1.6094, Val Loss: 1.6092, Val Accuracy: 24.60%, F1 score: 0.10\n",
      "Epoch 9/100, Train Loss: 1.6094, Val Loss: 1.6092, Val Accuracy: 24.60%, F1 score: 0.10\n",
      "Epoch 10/100, Train Loss: 1.6095, Val Loss: 1.6092, Val Accuracy: 24.60%, F1 score: 0.10\n",
      "Epoch 11/100, Train Loss: 1.6095, Val Loss: 1.6092, Val Accuracy: 24.60%, F1 score: 0.10\n",
      "Epoch 12/100, Train Loss: 1.6095, Val Loss: 1.6092, Val Accuracy: 24.60%, F1 score: 0.10\n",
      "Epoch 13/100, Train Loss: 1.6094, Val Loss: 1.6092, Val Accuracy: 24.60%, F1 score: 0.10\n",
      "Epoch 14/100, Train Loss: 1.6094, Val Loss: 1.6092, Val Accuracy: 24.60%, F1 score: 0.10\n",
      "Epoch 15/100, Train Loss: 1.6094, Val Loss: 1.6092, Val Accuracy: 24.60%, F1 score: 0.10\n",
      "Epoch 16/100, Train Loss: 1.6094, Val Loss: 1.6092, Val Accuracy: 24.60%, F1 score: 0.10\n",
      "Epoch 17/100, Train Loss: 1.6094, Val Loss: 1.6092, Val Accuracy: 24.60%, F1 score: 0.10\n",
      "Epoch 18/100, Train Loss: 1.6094, Val Loss: 1.6092, Val Accuracy: 24.60%, F1 score: 0.10\n",
      "Epoch 19/100, Train Loss: 1.6094, Val Loss: 1.6092, Val Accuracy: 24.60%, F1 score: 0.10\n",
      "Epoch 20/100, Train Loss: 1.6094, Val Loss: 1.6092, Val Accuracy: 24.60%, F1 score: 0.10\n",
      "Epoch 21/100, Train Loss: 1.6094, Val Loss: 1.6092, Val Accuracy: 24.60%, F1 score: 0.10\n",
      "Epoch 22/100, Train Loss: 1.6094, Val Loss: 1.6092, Val Accuracy: 24.60%, F1 score: 0.10\n",
      "Epoch 23/100, Train Loss: 1.6094, Val Loss: 1.6092, Val Accuracy: 24.60%, F1 score: 0.10\n",
      "Epoch 24/100, Train Loss: 1.6094, Val Loss: 1.6092, Val Accuracy: 24.60%, F1 score: 0.10\n",
      "Epoch 25/100, Train Loss: 1.6094, Val Loss: 1.6092, Val Accuracy: 24.60%, F1 score: 0.10\n",
      "Epoch 26/100, Train Loss: 1.6094, Val Loss: 1.6092, Val Accuracy: 24.60%, F1 score: 0.10\n",
      "Epoch 27/100, Train Loss: 1.6094, Val Loss: 1.6092, Val Accuracy: 24.60%, F1 score: 0.10\n",
      "Epoch 28/100, Train Loss: 1.6094, Val Loss: 1.6092, Val Accuracy: 24.60%, F1 score: 0.10\n",
      "Epoch 29/100, Train Loss: 1.6093, Val Loss: 1.6092, Val Accuracy: 24.60%, F1 score: 0.10\n",
      "Epoch 30/100, Train Loss: 1.6094, Val Loss: 1.6092, Val Accuracy: 24.60%, F1 score: 0.10\n",
      "Epoch 31/100, Train Loss: 1.6093, Val Loss: 1.6092, Val Accuracy: 24.60%, F1 score: 0.10\n",
      "Epoch 32/100, Train Loss: 1.6093, Val Loss: 1.6092, Val Accuracy: 24.60%, F1 score: 0.10\n",
      "Epoch 33/100, Train Loss: 1.6093, Val Loss: 1.6092, Val Accuracy: 24.60%, F1 score: 0.10\n",
      "Epoch 34/100, Train Loss: 1.6093, Val Loss: 1.6092, Val Accuracy: 24.60%, F1 score: 0.10\n",
      "Epoch 35/100, Train Loss: 1.6094, Val Loss: 1.6092, Val Accuracy: 24.60%, F1 score: 0.10\n",
      "Epoch 36/100, Train Loss: 1.6094, Val Loss: 1.6092, Val Accuracy: 24.60%, F1 score: 0.10\n",
      "Epoch 37/100, Train Loss: 1.6094, Val Loss: 1.6092, Val Accuracy: 24.60%, F1 score: 0.10\n",
      "Epoch 38/100, Train Loss: 1.6094, Val Loss: 1.6092, Val Accuracy: 24.60%, F1 score: 0.10\n",
      "Epoch 39/100, Train Loss: 1.6094, Val Loss: 1.6092, Val Accuracy: 24.60%, F1 score: 0.10\n",
      "Epoch 40/100, Train Loss: 1.6094, Val Loss: 1.6092, Val Accuracy: 24.60%, F1 score: 0.10\n",
      "Epoch 41/100, Train Loss: 1.6094, Val Loss: 1.6092, Val Accuracy: 24.60%, F1 score: 0.10\n",
      "Epoch 42/100, Train Loss: 1.6094, Val Loss: 1.6092, Val Accuracy: 24.60%, F1 score: 0.10\n",
      "Epoch 43/100, Train Loss: 1.6094, Val Loss: 1.6092, Val Accuracy: 24.60%, F1 score: 0.10\n",
      "Epoch 44/100, Train Loss: 1.6094, Val Loss: 1.6092, Val Accuracy: 24.60%, F1 score: 0.10\n",
      "Epoch 45/100, Train Loss: 1.6094, Val Loss: 1.6092, Val Accuracy: 24.60%, F1 score: 0.10\n",
      "Epoch 46/100, Train Loss: 1.6094, Val Loss: 1.6092, Val Accuracy: 24.60%, F1 score: 0.10\n",
      "Epoch 47/100, Train Loss: 1.6094, Val Loss: 1.6092, Val Accuracy: 24.60%, F1 score: 0.10\n",
      "Epoch 48/100, Train Loss: 1.6094, Val Loss: 1.6092, Val Accuracy: 24.60%, F1 score: 0.10\n",
      "Epoch 49/100, Train Loss: 1.6094, Val Loss: 1.6092, Val Accuracy: 24.60%, F1 score: 0.10\n",
      "Epoch 50/100, Train Loss: 1.6094, Val Loss: 1.6092, Val Accuracy: 24.60%, F1 score: 0.10\n",
      "Epoch 51/100, Train Loss: 1.6094, Val Loss: 1.6092, Val Accuracy: 24.60%, F1 score: 0.10\n",
      "Epoch 52/100, Train Loss: 1.6094, Val Loss: 1.6092, Val Accuracy: 24.60%, F1 score: 0.10\n",
      "Epoch 53/100, Train Loss: 1.6094, Val Loss: 1.6092, Val Accuracy: 24.60%, F1 score: 0.10\n",
      "Epoch 54/100, Train Loss: 1.6094, Val Loss: 1.6092, Val Accuracy: 24.60%, F1 score: 0.10\n",
      "Epoch 55/100, Train Loss: 1.6094, Val Loss: 1.6092, Val Accuracy: 24.60%, F1 score: 0.10\n",
      "Epoch 56/100, Train Loss: 1.6094, Val Loss: 1.6092, Val Accuracy: 24.60%, F1 score: 0.10\n",
      "Epoch 57/100, Train Loss: 1.6094, Val Loss: 1.6092, Val Accuracy: 24.60%, F1 score: 0.10\n",
      "Epoch 58/100, Train Loss: 1.6094, Val Loss: 1.6092, Val Accuracy: 24.60%, F1 score: 0.10\n",
      "Epoch 59/100, Train Loss: 1.6094, Val Loss: 1.6092, Val Accuracy: 24.60%, F1 score: 0.10\n",
      "Epoch 60/100, Train Loss: 1.6094, Val Loss: 1.6092, Val Accuracy: 24.60%, F1 score: 0.10\n",
      "Epoch 61/100, Train Loss: 1.6094, Val Loss: 1.6092, Val Accuracy: 24.60%, F1 score: 0.10\n",
      "Epoch 62/100, Train Loss: 1.6094, Val Loss: 1.6092, Val Accuracy: 24.60%, F1 score: 0.10\n",
      "Epoch 63/100, Train Loss: 1.6094, Val Loss: 1.6092, Val Accuracy: 24.60%, F1 score: 0.10\n",
      "Epoch 64/100, Train Loss: 1.6094, Val Loss: 1.6092, Val Accuracy: 24.60%, F1 score: 0.10\n",
      "Epoch 65/100, Train Loss: 1.6094, Val Loss: 1.6092, Val Accuracy: 24.60%, F1 score: 0.10\n",
      "Epoch 66/100, Train Loss: 1.6094, Val Loss: 1.6092, Val Accuracy: 24.60%, F1 score: 0.10\n",
      "Epoch 67/100, Train Loss: 1.6094, Val Loss: 1.6092, Val Accuracy: 24.60%, F1 score: 0.10\n",
      "Epoch 68/100, Train Loss: 1.6094, Val Loss: 1.6092, Val Accuracy: 24.60%, F1 score: 0.10\n",
      "Epoch 69/100, Train Loss: 1.6094, Val Loss: 1.6092, Val Accuracy: 24.60%, F1 score: 0.10\n",
      "Epoch 70/100, Train Loss: 1.6094, Val Loss: 1.6092, Val Accuracy: 24.60%, F1 score: 0.10\n",
      "Epoch 71/100, Train Loss: 1.6094, Val Loss: 1.6092, Val Accuracy: 24.60%, F1 score: 0.10\n",
      "Epoch 72/100, Train Loss: 1.6094, Val Loss: 1.6092, Val Accuracy: 24.60%, F1 score: 0.10\n",
      "Epoch 73/100, Train Loss: 1.6094, Val Loss: 1.6092, Val Accuracy: 24.60%, F1 score: 0.10\n",
      "Epoch 74/100, Train Loss: 1.6094, Val Loss: 1.6092, Val Accuracy: 24.60%, F1 score: 0.10\n",
      "Epoch 75/100, Train Loss: 1.6094, Val Loss: 1.6092, Val Accuracy: 24.60%, F1 score: 0.10\n",
      "Epoch 76/100, Train Loss: 1.6094, Val Loss: 1.6092, Val Accuracy: 24.60%, F1 score: 0.10\n",
      "Epoch 77/100, Train Loss: 1.6094, Val Loss: 1.6092, Val Accuracy: 24.60%, F1 score: 0.10\n",
      "Epoch 78/100, Train Loss: 1.6094, Val Loss: 1.6092, Val Accuracy: 24.60%, F1 score: 0.10\n",
      "Epoch 79/100, Train Loss: 1.6094, Val Loss: 1.6092, Val Accuracy: 24.60%, F1 score: 0.10\n",
      "Epoch 80/100, Train Loss: 1.6094, Val Loss: 1.6092, Val Accuracy: 24.60%, F1 score: 0.10\n",
      "Epoch 81/100, Train Loss: 1.6094, Val Loss: 1.6092, Val Accuracy: 24.60%, F1 score: 0.10\n",
      "Epoch 82/100, Train Loss: 1.6094, Val Loss: 1.6092, Val Accuracy: 24.60%, F1 score: 0.10\n",
      "Epoch 83/100, Train Loss: 1.6094, Val Loss: 1.6092, Val Accuracy: 24.60%, F1 score: 0.10\n",
      "Epoch 84/100, Train Loss: 1.6094, Val Loss: 1.6092, Val Accuracy: 24.60%, F1 score: 0.10\n",
      "Epoch 85/100, Train Loss: 1.6094, Val Loss: 1.6092, Val Accuracy: 24.60%, F1 score: 0.10\n",
      "Epoch 86/100, Train Loss: 1.6094, Val Loss: 1.6092, Val Accuracy: 24.60%, F1 score: 0.10\n",
      "Epoch 87/100, Train Loss: 1.6094, Val Loss: 1.6092, Val Accuracy: 24.60%, F1 score: 0.10\n",
      "Epoch 88/100, Train Loss: 1.6094, Val Loss: 1.6092, Val Accuracy: 24.60%, F1 score: 0.10\n",
      "Epoch 89/100, Train Loss: 1.6094, Val Loss: 1.6092, Val Accuracy: 24.60%, F1 score: 0.10\n",
      "Epoch 90/100, Train Loss: 1.6094, Val Loss: 1.6092, Val Accuracy: 24.60%, F1 score: 0.10\n",
      "Epoch 91/100, Train Loss: 1.6094, Val Loss: 1.6092, Val Accuracy: 24.60%, F1 score: 0.10\n",
      "Epoch 92/100, Train Loss: 1.6094, Val Loss: 1.6092, Val Accuracy: 24.60%, F1 score: 0.10\n",
      "Epoch 93/100, Train Loss: 1.6094, Val Loss: 1.6092, Val Accuracy: 24.60%, F1 score: 0.10\n"
     ]
    },
    {
     "name": "stdout",
     "output_type": "stream",
     "text": [
      "Epoch 94/100, Train Loss: 1.6094, Val Loss: 1.6092, Val Accuracy: 24.60%, F1 score: 0.10\n",
      "Epoch 95/100, Train Loss: 1.6094, Val Loss: 1.6092, Val Accuracy: 24.60%, F1 score: 0.10\n",
      "Epoch 96/100, Train Loss: 1.6094, Val Loss: 1.6092, Val Accuracy: 24.60%, F1 score: 0.10\n",
      "Epoch 97/100, Train Loss: 1.6094, Val Loss: 1.6092, Val Accuracy: 24.60%, F1 score: 0.10\n",
      "Epoch 98/100, Train Loss: 1.6094, Val Loss: 1.6092, Val Accuracy: 24.60%, F1 score: 0.10\n",
      "Epoch 99/100, Train Loss: 1.6094, Val Loss: 1.6092, Val Accuracy: 24.60%, F1 score: 0.10\n",
      "Epoch 100/100, Train Loss: 1.6094, Val Loss: 1.6092, Val Accuracy: 24.60%, F1 score: 0.10\n"
     ]
    }
   ],
   "source": [
    "max_loss=0.965\n",
    "model2 = FeedForwardNet2(input_size, hidden_size, hidden_size, num_classes)\n",
    "\n",
    "trained_model2=train_model(100, max_loss, 100, model2)"
   ]
  },
  {
   "cell_type": "code",
   "execution_count": 48,
   "id": "b1d3542b",
   "metadata": {},
   "outputs": [
    {
     "name": "stdout",
     "output_type": "stream",
     "text": [
      "Test Accuracy: 13.00%, F1 score: 0.03\n"
     ]
    }
   ],
   "source": [
    "testing_model(trained_model2)"
   ]
  },
  {
   "cell_type": "markdown",
   "id": "e031bd7d",
   "metadata": {},
   "source": [
    "### It seems that the accuracy has gotten worse, thus the network with 4 hidden layers is still the best"
   ]
  },
  {
   "cell_type": "markdown",
   "id": "6a19496c",
   "metadata": {},
   "source": [
    "# Testing with a 3 layer neural network"
   ]
  },
  {
   "cell_type": "code",
   "execution_count": 52,
   "id": "aa8aceca",
   "metadata": {},
   "outputs": [],
   "source": [
    "class FeedForwardNet3(nn.Module):\n",
    "    def __init__(self, input_size, hidden_size1, hidden_size2, num_classes):\n",
    "        super(FeedForwardNet3, self).__init__()\n",
    "        self.fc1 = nn.Linear(input_size, hidden_size1)\n",
    "        self.relu1 = nn.ReLU()\n",
    "        self.fc2 = nn.Linear(hidden_size1, hidden_size2)\n",
    "        self.relu2 = nn.ReLU()\n",
    "        self.fc3 = nn.Linear(hidden_size2, hidden_size2)\n",
    "        self.relu3 = nn.ReLU()\n",
    "        self.fc4 = nn.Linear(hidden_size2, hidden_size2)\n",
    "        self.relu4 = nn.ReLU()\n",
    "        self.fc5 = nn.Linear(hidden_size2, num_classes)\n",
    "        self.softmax = nn.Softmax(dim=1)\n",
    "\n",
    "    def forward(self, x):\n",
    "        out = self.fc1(x)\n",
    "        out = self.relu1(out)\n",
    "        out = self.fc2(out)\n",
    "        out = self.relu2(out)\n",
    "        out = self.fc3(out)\n",
    "        out = self.relu3(out)\n",
    "        out = self.fc4(out)\n",
    "        out = self.relu4(out)\n",
    "        # Perform mean aggregation\n",
    "        out = torch.mean(out, dim=1, keepdim=False)\n",
    "        out = self.fc5(out)\n",
    "        out = self.softmax(out)\n",
    "        return out "
   ]
  },
  {
   "cell_type": "code",
   "execution_count": 53,
   "id": "b34d891c",
   "metadata": {},
   "outputs": [],
   "source": [
    "batch_size = 128\n",
    "\n",
    "# Convert data to PyTorch tensors\n",
    "X_train_tensor = torch.tensor(X_train, dtype=torch.float32)\n",
    "y_train_tensor = torch.tensor(y_train, dtype=torch.int64)\n",
    "X_test_tensor = torch.tensor(X_test, dtype=torch.float32)\n",
    "y_test_tensor = torch.tensor(y_test, dtype=torch.int64)\n",
    "X_val_tensor = torch.tensor(X_dev, dtype=torch.float32)\n",
    "y_val_tensor = torch.tensor(y_dev, dtype=torch.int64)\n",
    "\n",
    "# Create data loaders\n",
    "train_dataset = TensorDataset(X_train_tensor, y_train_tensor)\n",
    "train_loader = DataLoader(train_dataset, batch_size=batch_size, shuffle=True)\n",
    "\n",
    "test_dataset = TensorDataset(X_test_tensor, y_test_tensor)\n",
    "test_loader = DataLoader(test_dataset, batch_size=batch_size, shuffle=False)\n",
    "\n",
    "val_dataset = TensorDataset(X_val_tensor, y_val_tensor)\n",
    "val_loader = DataLoader(val_dataset, batch_size=batch_size, shuffle=False)"
   ]
  },
  {
   "cell_type": "code",
   "execution_count": 54,
   "id": "f23fce8c",
   "metadata": {
    "scrolled": true
   },
   "outputs": [
    {
     "name": "stdout",
     "output_type": "stream",
     "text": [
      "Epoch 1/100, Train Loss: 0.0000, Val Loss: 1.6094, Val Accuracy: 21.20%, F1 score: 0.07\n",
      "Epoch 2/100, Train Loss: 1.6098, Val Loss: 1.6094, Val Accuracy: 21.20%, F1 score: 0.07\n",
      "Epoch 3/100, Train Loss: 1.6100, Val Loss: 1.6094, Val Accuracy: 21.20%, F1 score: 0.07\n",
      "Epoch 4/100, Train Loss: 1.6096, Val Loss: 1.6094, Val Accuracy: 21.20%, F1 score: 0.07\n",
      "Epoch 5/100, Train Loss: 1.6096, Val Loss: 1.6094, Val Accuracy: 21.20%, F1 score: 0.07\n",
      "Epoch 6/100, Train Loss: 1.6096, Val Loss: 1.6094, Val Accuracy: 21.20%, F1 score: 0.07\n",
      "Epoch 7/100, Train Loss: 1.6094, Val Loss: 1.6094, Val Accuracy: 21.20%, F1 score: 0.07\n",
      "Epoch 8/100, Train Loss: 1.6094, Val Loss: 1.6094, Val Accuracy: 21.20%, F1 score: 0.07\n",
      "Epoch 9/100, Train Loss: 1.6094, Val Loss: 1.6094, Val Accuracy: 21.20%, F1 score: 0.07\n",
      "Epoch 10/100, Train Loss: 1.6094, Val Loss: 1.6094, Val Accuracy: 21.20%, F1 score: 0.07\n",
      "Epoch 11/100, Train Loss: 1.6094, Val Loss: 1.6094, Val Accuracy: 21.20%, F1 score: 0.07\n",
      "Epoch 12/100, Train Loss: 1.6094, Val Loss: 1.6094, Val Accuracy: 21.20%, F1 score: 0.07\n",
      "Epoch 13/100, Train Loss: 1.6093, Val Loss: 1.6094, Val Accuracy: 21.20%, F1 score: 0.07\n",
      "Epoch 14/100, Train Loss: 1.6094, Val Loss: 1.6094, Val Accuracy: 21.20%, F1 score: 0.07\n",
      "Epoch 15/100, Train Loss: 1.6094, Val Loss: 1.6094, Val Accuracy: 21.20%, F1 score: 0.07\n",
      "Epoch 16/100, Train Loss: 1.6094, Val Loss: 1.6094, Val Accuracy: 21.20%, F1 score: 0.07\n",
      "Epoch 17/100, Train Loss: 1.6093, Val Loss: 1.6094, Val Accuracy: 21.20%, F1 score: 0.07\n",
      "Epoch 18/100, Train Loss: 1.6093, Val Loss: 1.6094, Val Accuracy: 21.20%, F1 score: 0.07\n",
      "Epoch 19/100, Train Loss: 1.6093, Val Loss: 1.6094, Val Accuracy: 21.20%, F1 score: 0.07\n",
      "Epoch 20/100, Train Loss: 1.6093, Val Loss: 1.6094, Val Accuracy: 21.20%, F1 score: 0.07\n",
      "Epoch 21/100, Train Loss: 1.6093, Val Loss: 1.6094, Val Accuracy: 21.20%, F1 score: 0.07\n",
      "Epoch 22/100, Train Loss: 1.6093, Val Loss: 1.6094, Val Accuracy: 21.20%, F1 score: 0.07\n",
      "Epoch 23/100, Train Loss: 1.6093, Val Loss: 1.6094, Val Accuracy: 21.20%, F1 score: 0.07\n",
      "Epoch 24/100, Train Loss: 1.6093, Val Loss: 1.6094, Val Accuracy: 21.20%, F1 score: 0.07\n",
      "Epoch 25/100, Train Loss: 1.6093, Val Loss: 1.6094, Val Accuracy: 21.20%, F1 score: 0.07\n",
      "Epoch 26/100, Train Loss: 1.6093, Val Loss: 1.6094, Val Accuracy: 21.20%, F1 score: 0.07\n",
      "Epoch 27/100, Train Loss: 1.6093, Val Loss: 1.6094, Val Accuracy: 21.20%, F1 score: 0.07\n",
      "Epoch 28/100, Train Loss: 1.6092, Val Loss: 1.6094, Val Accuracy: 21.20%, F1 score: 0.07\n",
      "Epoch 29/100, Train Loss: 1.6092, Val Loss: 1.6094, Val Accuracy: 21.20%, F1 score: 0.07\n",
      "Epoch 30/100, Train Loss: 1.6092, Val Loss: 1.6094, Val Accuracy: 21.20%, F1 score: 0.07\n",
      "Epoch 31/100, Train Loss: 1.6092, Val Loss: 1.6094, Val Accuracy: 21.20%, F1 score: 0.07\n",
      "Epoch 32/100, Train Loss: 1.6092, Val Loss: 1.6094, Val Accuracy: 21.20%, F1 score: 0.07\n",
      "Epoch 33/100, Train Loss: 1.6093, Val Loss: 1.6094, Val Accuracy: 21.20%, F1 score: 0.07\n",
      "Epoch 34/100, Train Loss: 1.6092, Val Loss: 1.6094, Val Accuracy: 21.20%, F1 score: 0.07\n",
      "Epoch 35/100, Train Loss: 1.6092, Val Loss: 1.6094, Val Accuracy: 21.20%, F1 score: 0.07\n",
      "Epoch 36/100, Train Loss: 1.6092, Val Loss: 1.6094, Val Accuracy: 21.20%, F1 score: 0.07\n",
      "Epoch 37/100, Train Loss: 1.6093, Val Loss: 1.6094, Val Accuracy: 21.20%, F1 score: 0.07\n",
      "Epoch 38/100, Train Loss: 1.6093, Val Loss: 1.6094, Val Accuracy: 21.20%, F1 score: 0.07\n",
      "Epoch 39/100, Train Loss: 1.6093, Val Loss: 1.6094, Val Accuracy: 21.20%, F1 score: 0.07\n",
      "Epoch 40/100, Train Loss: 1.6093, Val Loss: 1.6094, Val Accuracy: 21.20%, F1 score: 0.07\n",
      "Epoch 41/100, Train Loss: 1.6093, Val Loss: 1.6094, Val Accuracy: 21.20%, F1 score: 0.07\n",
      "Epoch 42/100, Train Loss: 1.6093, Val Loss: 1.6094, Val Accuracy: 21.20%, F1 score: 0.07\n",
      "Epoch 43/100, Train Loss: 1.6093, Val Loss: 1.6094, Val Accuracy: 21.20%, F1 score: 0.07\n",
      "Epoch 44/100, Train Loss: 1.6093, Val Loss: 1.6094, Val Accuracy: 21.20%, F1 score: 0.07\n",
      "Epoch 45/100, Train Loss: 1.6093, Val Loss: 1.6094, Val Accuracy: 21.20%, F1 score: 0.07\n",
      "Epoch 46/100, Train Loss: 1.6093, Val Loss: 1.6094, Val Accuracy: 21.20%, F1 score: 0.07\n",
      "Epoch 47/100, Train Loss: 1.6093, Val Loss: 1.6094, Val Accuracy: 21.20%, F1 score: 0.07\n",
      "Epoch 48/100, Train Loss: 1.6093, Val Loss: 1.6094, Val Accuracy: 21.20%, F1 score: 0.07\n",
      "Epoch 49/100, Train Loss: 1.6093, Val Loss: 1.6094, Val Accuracy: 21.20%, F1 score: 0.07\n",
      "Epoch 50/100, Train Loss: 1.6093, Val Loss: 1.6094, Val Accuracy: 21.20%, F1 score: 0.07\n",
      "Epoch 51/100, Train Loss: 1.6093, Val Loss: 1.6094, Val Accuracy: 21.20%, F1 score: 0.07\n",
      "Epoch 52/100, Train Loss: 1.6093, Val Loss: 1.6094, Val Accuracy: 21.20%, F1 score: 0.07\n",
      "Epoch 53/100, Train Loss: 1.6093, Val Loss: 1.6094, Val Accuracy: 21.20%, F1 score: 0.07\n",
      "Epoch 54/100, Train Loss: 1.6093, Val Loss: 1.6094, Val Accuracy: 21.20%, F1 score: 0.07\n",
      "Epoch 55/100, Train Loss: 1.6093, Val Loss: 1.6094, Val Accuracy: 21.20%, F1 score: 0.07\n",
      "Epoch 56/100, Train Loss: 1.6093, Val Loss: 1.6094, Val Accuracy: 21.20%, F1 score: 0.07\n",
      "Epoch 57/100, Train Loss: 1.6093, Val Loss: 1.6094, Val Accuracy: 21.20%, F1 score: 0.07\n",
      "Epoch 58/100, Train Loss: 1.6093, Val Loss: 1.6094, Val Accuracy: 21.20%, F1 score: 0.07\n",
      "Epoch 59/100, Train Loss: 1.6093, Val Loss: 1.6094, Val Accuracy: 21.20%, F1 score: 0.07\n",
      "Epoch 60/100, Train Loss: 1.6093, Val Loss: 1.6094, Val Accuracy: 21.20%, F1 score: 0.07\n",
      "Epoch 61/100, Train Loss: 1.6093, Val Loss: 1.6094, Val Accuracy: 21.20%, F1 score: 0.07\n",
      "Epoch 62/100, Train Loss: 1.6093, Val Loss: 1.6094, Val Accuracy: 21.20%, F1 score: 0.07\n",
      "Epoch 63/100, Train Loss: 1.6093, Val Loss: 1.6094, Val Accuracy: 21.20%, F1 score: 0.07\n",
      "Epoch 64/100, Train Loss: 1.6093, Val Loss: 1.6094, Val Accuracy: 21.20%, F1 score: 0.07\n",
      "Epoch 65/100, Train Loss: 1.6093, Val Loss: 1.6094, Val Accuracy: 21.20%, F1 score: 0.07\n",
      "Epoch 66/100, Train Loss: 1.6093, Val Loss: 1.6094, Val Accuracy: 21.20%, F1 score: 0.07\n",
      "Epoch 67/100, Train Loss: 1.6093, Val Loss: 1.6094, Val Accuracy: 21.20%, F1 score: 0.07\n",
      "Epoch 68/100, Train Loss: 1.6093, Val Loss: 1.6094, Val Accuracy: 21.20%, F1 score: 0.07\n",
      "Epoch 69/100, Train Loss: 1.6093, Val Loss: 1.6094, Val Accuracy: 21.20%, F1 score: 0.07\n",
      "Epoch 70/100, Train Loss: 1.6093, Val Loss: 1.6094, Val Accuracy: 21.20%, F1 score: 0.07\n",
      "Epoch 71/100, Train Loss: 1.6093, Val Loss: 1.6094, Val Accuracy: 21.20%, F1 score: 0.07\n",
      "Epoch 72/100, Train Loss: 1.6093, Val Loss: 1.6094, Val Accuracy: 21.20%, F1 score: 0.07\n",
      "Epoch 73/100, Train Loss: 1.6093, Val Loss: 1.6094, Val Accuracy: 21.20%, F1 score: 0.07\n",
      "Epoch 74/100, Train Loss: 1.6093, Val Loss: 1.6094, Val Accuracy: 21.20%, F1 score: 0.07\n",
      "Epoch 75/100, Train Loss: 1.6093, Val Loss: 1.6094, Val Accuracy: 21.20%, F1 score: 0.07\n",
      "Epoch 76/100, Train Loss: 1.6093, Val Loss: 1.6094, Val Accuracy: 21.20%, F1 score: 0.07\n",
      "Epoch 77/100, Train Loss: 1.6093, Val Loss: 1.6094, Val Accuracy: 21.20%, F1 score: 0.07\n",
      "Epoch 78/100, Train Loss: 1.6093, Val Loss: 1.6094, Val Accuracy: 21.20%, F1 score: 0.07\n",
      "Epoch 79/100, Train Loss: 1.6093, Val Loss: 1.6094, Val Accuracy: 21.20%, F1 score: 0.07\n",
      "Epoch 80/100, Train Loss: 1.6093, Val Loss: 1.6094, Val Accuracy: 21.20%, F1 score: 0.07\n",
      "Epoch 81/100, Train Loss: 1.6093, Val Loss: 1.6094, Val Accuracy: 21.20%, F1 score: 0.07\n",
      "Epoch 82/100, Train Loss: 1.6093, Val Loss: 1.6094, Val Accuracy: 21.20%, F1 score: 0.07\n",
      "Epoch 83/100, Train Loss: 1.6093, Val Loss: 1.6094, Val Accuracy: 21.20%, F1 score: 0.07\n",
      "Epoch 84/100, Train Loss: 1.6093, Val Loss: 1.6094, Val Accuracy: 21.20%, F1 score: 0.07\n",
      "Epoch 85/100, Train Loss: 1.6093, Val Loss: 1.6094, Val Accuracy: 21.20%, F1 score: 0.07\n",
      "Epoch 86/100, Train Loss: 1.6093, Val Loss: 1.6094, Val Accuracy: 21.20%, F1 score: 0.07\n",
      "Epoch 87/100, Train Loss: 1.6093, Val Loss: 1.6094, Val Accuracy: 21.20%, F1 score: 0.07\n",
      "Epoch 88/100, Train Loss: 1.6093, Val Loss: 1.6094, Val Accuracy: 21.20%, F1 score: 0.07\n",
      "Epoch 89/100, Train Loss: 1.6093, Val Loss: 1.6094, Val Accuracy: 21.20%, F1 score: 0.07\n",
      "Epoch 90/100, Train Loss: 1.6093, Val Loss: 1.6094, Val Accuracy: 21.20%, F1 score: 0.07\n",
      "Epoch 91/100, Train Loss: 1.6093, Val Loss: 1.6094, Val Accuracy: 21.20%, F1 score: 0.07\n",
      "Epoch 92/100, Train Loss: 1.6093, Val Loss: 1.6094, Val Accuracy: 21.20%, F1 score: 0.07\n",
      "Epoch 93/100, Train Loss: 1.6093, Val Loss: 1.6094, Val Accuracy: 21.20%, F1 score: 0.07\n"
     ]
    },
    {
     "name": "stdout",
     "output_type": "stream",
     "text": [
      "Epoch 94/100, Train Loss: 1.6093, Val Loss: 1.6094, Val Accuracy: 21.20%, F1 score: 0.07\n",
      "Epoch 95/100, Train Loss: 1.6092, Val Loss: 1.6094, Val Accuracy: 21.20%, F1 score: 0.07\n",
      "Epoch 96/100, Train Loss: 1.6093, Val Loss: 1.6094, Val Accuracy: 21.20%, F1 score: 0.07\n",
      "Epoch 97/100, Train Loss: 1.6093, Val Loss: 1.6094, Val Accuracy: 21.20%, F1 score: 0.07\n",
      "Epoch 98/100, Train Loss: 1.6093, Val Loss: 1.6094, Val Accuracy: 21.20%, F1 score: 0.07\n",
      "Epoch 99/100, Train Loss: 1.6093, Val Loss: 1.6094, Val Accuracy: 21.20%, F1 score: 0.07\n",
      "Epoch 100/100, Train Loss: 1.6093, Val Loss: 1.6094, Val Accuracy: 21.20%, F1 score: 0.07\n"
     ]
    }
   ],
   "source": [
    "input_size = 300  # Size of the word embeddings\n",
    "hidden_size = 256  # Users are able to adjust the number of hidden neurons\n",
    "num_classes = 5\n",
    "max_loss=0.965\n",
    "model3 = FeedForwardNet3(input_size, hidden_size, hidden_size, num_classes)\n",
    "\n",
    "trained_model3=train_model(100, max_loss, 100, model3)"
   ]
  },
  {
   "cell_type": "code",
   "execution_count": 55,
   "id": "8850476b",
   "metadata": {},
   "outputs": [
    {
     "name": "stdout",
     "output_type": "stream",
     "text": [
      "Test Accuracy: 27.60%, F1 score: 0.12\n"
     ]
    }
   ],
   "source": [
    "testing_model(trained_model3)"
   ]
  },
  {
   "cell_type": "markdown",
   "id": "52e758da",
   "metadata": {},
   "source": [
    "### It would seem that the feed forward network with 4 hidden layers worked the best, with the highest accuracy score"
   ]
  }
 ],
 "metadata": {
  "colab": {
   "provenance": []
  },
  "kernelspec": {
   "display_name": "Python 3 (ipykernel)",
   "language": "python",
   "name": "python3"
  },
  "language_info": {
   "codemirror_mode": {
    "name": "ipython",
    "version": 3
   },
   "file_extension": ".py",
   "mimetype": "text/x-python",
   "name": "python",
   "nbconvert_exporter": "python",
   "pygments_lexer": "ipython3",
   "version": "3.11.5"
  }
 },
 "nbformat": 4,
 "nbformat_minor": 5
}
